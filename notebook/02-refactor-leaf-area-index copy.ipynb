{
 "cells": [
  {
   "cell_type": "markdown",
   "id": "5e68baf1",
   "metadata": {},
   "source": [
    "## User guide\n",
    "https://pcse.readthedocs.io/en/stable/user_guide.html#getting-started\n"
   ]
  },
  {
   "cell_type": "code",
   "execution_count": null,
   "id": "83229629",
   "metadata": {},
   "outputs": [],
   "source": [
    "import pandas as pd\n",
    "import matplotlib.pyplot as plt\n",
    "from pprint import pp\n",
    "from datetime import datetime"
   ]
  },
  {
   "cell_type": "markdown",
   "id": "6d387415",
   "metadata": {},
   "source": [
    "## Running PCSE/WOFOST with custom input data\n",
    "For running PCSE/WOFOST (and PCSE models in general) with your own data sources you need three different types of inputs:\n",
    "\n",
    "1. Model parameters that parameterize the different model components. These parameters usually consist of :\n",
    "   - a set of crop parameters (or multiple sets in case of crop rotations), \n",
    "   - a set of soil parameters and \n",
    "   - a set of site parameters: ancillary parameters that are specific for a location.\n",
    "\n",
    "2. Driving variables represented by weather data which can be derived from various sources.\n",
    "3. Agromanagement actions which specify the farm activities that will take place on the field that is simulated by PCSE."
   ]
  },
  {
   "cell_type": "code",
   "execution_count": null,
   "id": "c7443534",
   "metadata": {},
   "outputs": [],
   "source": [
    "from pcse.fileinput import CABOFileReader, YAMLCropDataProvider\n",
    "from pathlib import Path\n",
    "from nevergrad.functions.irrigation.common_path import IRRIGATION_DATA_DIR"
   ]
  },
  {
   "cell_type": "markdown",
   "id": "daa353e4",
   "metadata": {},
   "source": [
    "## 1. Model parameters\n",
    "### 1.1. Crop parameters"
   ]
  },
  {
   "cell_type": "code",
   "execution_count": null,
   "id": "8fbaaf7a",
   "metadata": {},
   "outputs": [],
   "source": [
    "cropfile = \"https://raw.githubusercontent.com/ajwdewit/WOFOST_crop_parameters/master/\"\n",
    "cropdata = YAMLCropDataProvider(repository=cropfile)"
   ]
  },
  {
   "cell_type": "code",
   "execution_count": null,
   "id": "9b102641",
   "metadata": {},
   "outputs": [],
   "source": [
    "pp(cropdata.get_crops_varieties())"
   ]
  },
  {
   "cell_type": "markdown",
   "id": "922d2298",
   "metadata": {},
   "source": [
    "### 1.2. Soil parameters\n",
    "- soil type \n",
    "- soil physical properties"
   ]
  },
  {
   "cell_type": "code",
   "execution_count": null,
   "id": "3ae77eff",
   "metadata": {},
   "outputs": [],
   "source": [
    "soilfile = Path(IRRIGATION_DATA_DIR, \"soil\", \"ec3.soil\") \n",
    "# we will use the water balance for \n",
    "# freely draining soils and use the soil file for medium fine sand\n",
    "soildata = CABOFileReader(soilfile)"
   ]
  },
  {
   "cell_type": "code",
   "execution_count": null,
   "id": "02b2f8bb",
   "metadata": {},
   "outputs": [],
   "source": [
    "pp(soildata)"
   ]
  },
  {
   "cell_type": "markdown",
   "id": "3a97e0c0",
   "metadata": {},
   "source": [
    "### 1.3. Site parameters"
   ]
  },
  {
   "cell_type": "code",
   "execution_count": null,
   "id": "3e79a1dc",
   "metadata": {},
   "outputs": [],
   "source": [
    "from pcse.util import WOFOST71SiteDataProvider"
   ]
  },
  {
   "cell_type": "code",
   "execution_count": null,
   "id": "062998d2",
   "metadata": {},
   "outputs": [],
   "source": [
    "# the initial conditions of the water balance such as the initial soil moisture content\n",
    "sitedata = WOFOST71SiteDataProvider(\n",
    "    WAV=100, # initial soil moisture content\n",
    "    CO2=360, # the atmospheric CO2 concentration\n",
    ")"
   ]
  },
  {
   "cell_type": "code",
   "execution_count": null,
   "id": "8e1bf86b",
   "metadata": {},
   "outputs": [],
   "source": [
    "expected_sitedata = {\n",
    "    'IFUNRN': 0,\n",
    "    'NOTINF': 0,\n",
    "    'SSI': 0.0, # the initial surface storage\n",
    "    'SSMAX': 0.0, # the maximum surface storage\n",
    "    'WAV': 100.0,\n",
    "    'SMLIM': 0.4\n",
    "}\n",
    "assert sitedata == expected_sitedata"
   ]
  },
  {
   "cell_type": "markdown",
   "id": "ba92939c",
   "metadata": {},
   "source": [
    "### 1.4. Combine them"
   ]
  },
  {
   "cell_type": "code",
   "execution_count": null,
   "id": "7cbb82e3",
   "metadata": {},
   "outputs": [],
   "source": [
    "from pcse.base import ParameterProvider"
   ]
  },
  {
   "cell_type": "code",
   "execution_count": null,
   "id": "c7c3c616",
   "metadata": {},
   "outputs": [],
   "source": [
    "parameters = ParameterProvider(cropdata=cropdata, soildata=soildata, sitedata=sitedata)"
   ]
  },
  {
   "cell_type": "markdown",
   "id": "5306fb28",
   "metadata": {},
   "source": [
    "## 2. Weather data"
   ]
  },
  {
   "cell_type": "code",
   "execution_count": null,
   "id": "f3172e96",
   "metadata": {},
   "outputs": [],
   "source": [
    "from pcse.db import NASAPowerWeatherDataProvider\n",
    "from nevergrad.functions.irrigation.irrigation import KNOWN_GEOLOCS"
   ]
  },
  {
   "cell_type": "code",
   "execution_count": null,
   "id": "a4bd840d",
   "metadata": {},
   "outputs": [],
   "source": [
    "# address = \"Lome\"\n",
    "# geoloc = KNOWN_GEOLOCS.get(address)\n",
    "\n",
    "# wdp = NASAPowerWeatherDataProvider(\n",
    "#     latitude=geoloc.get(\"latitude\"), \n",
    "#     longitude=geoloc.get(\"longitude\")\n",
    "# )"
   ]
  },
  {
   "cell_type": "code",
   "execution_count": null,
   "id": "e0cadfe1",
   "metadata": {},
   "outputs": [],
   "source": [
    "wdp = NASAPowerWeatherDataProvider(\n",
    "    latitude=51.97, longitude=5.67,\n",
    ")"
   ]
  },
  {
   "cell_type": "code",
   "execution_count": null,
   "id": "7a154e96",
   "metadata": {},
   "outputs": [],
   "source": [
    "print(wdp)"
   ]
  },
  {
   "cell_type": "code",
   "execution_count": null,
   "id": "2d6d83a9",
   "metadata": {},
   "outputs": [],
   "source": [
    "crop_start_date = datetime.strptime(\"2006-03-31\", \"%Y-%m-%d\").date()\n",
    "crop_end_date = datetime.strptime(\"2006-10-20\", \"%Y-%m-%d\").date()"
   ]
  },
  {
   "cell_type": "code",
   "execution_count": null,
   "id": "243191e9",
   "metadata": {},
   "outputs": [],
   "source": [
    "df_weatherdataprovider = pd.DataFrame(wdp.export()).set_index(\"DAY\")\n",
    "\n",
    "mask = (df_weatherdataprovider.index >= crop_start_date) & (df_weatherdataprovider.index <= crop_end_date)\n",
    "df_weatherdataprovider.loc[mask, [\"RAIN\"]].plot()"
   ]
  },
  {
   "cell_type": "markdown",
   "id": "067e9c22",
   "metadata": {},
   "source": [
    "## 3. Agromanagement\n",
    "\n",
    "https://github.com/ajwdewit/pcse_notebooks/blob/master/06_advanced_agromanagement_with_PCSE.ipynb"
   ]
  },
  {
   "cell_type": "code",
   "execution_count": null,
   "id": "152ac8b8",
   "metadata": {},
   "outputs": [],
   "source": [
    "from pcse.fileinput import YAMLAgroManagementReader\n",
    "import yaml"
   ]
  },
  {
   "cell_type": "code",
   "execution_count": null,
   "id": "5d60fd26",
   "metadata": {
    "scrolled": true
   },
   "outputs": [],
   "source": [
    "def read_yaml_agro(yaml_agro_file: Path) -> list:\n",
    "    assert yaml_agro_file.exists()\n",
    "    with open(yaml_agro_file, \"r\") as f:\n",
    "        yaml_agro = f.read()\n",
    "    return yaml.safe_load(yaml_agro)\n"
   ]
  },
  {
   "cell_type": "code",
   "execution_count": null,
   "id": "ba30ea6d",
   "metadata": {},
   "outputs": [],
   "source": [
    "import sys, os\n",
    "data_dir = os.path.join(os.getcwd(), \"data1\")\n",
    "from pcse.fileinput import YAMLAgroManagementReader\n",
    "agromanagement_file = os.path.join(data_dir, 'agro', 'sugarbeet_calendar.agro')\n",
    "agromanagement = YAMLAgroManagementReader(agromanagement_file)\n",
    "print(agromanagement)"
   ]
  },
  {
   "cell_type": "code",
   "execution_count": null,
   "id": "59b26514",
   "metadata": {},
   "outputs": [],
   "source": [
    "agromanagement_file = os.path.join(data_dir, 'agro', 'sugarbeet_calendar.agro')"
   ]
  },
  {
   "cell_type": "code",
   "execution_count": null,
   "id": "b342621f",
   "metadata": {},
   "outputs": [],
   "source": [
    "agromanagement = YAMLAgroManagementReader(agromanagement_file)"
   ]
  },
  {
   "cell_type": "code",
   "execution_count": null,
   "id": "4fb828a3",
   "metadata": {},
   "outputs": [],
   "source": [
    "agromanagement = yaml.safe_load(yaml_agro_file)"
   ]
  },
  {
   "cell_type": "code",
   "execution_count": null,
   "id": "bfed0f1e",
   "metadata": {},
   "outputs": [],
   "source": [
    "yaml_agro_file = Path(IRRIGATION_DATA_DIR, \"agro\", \"sugarbeet_calendar.yaml\")\n",
    "agromanagement = read_yaml_agro(yaml_agro_file)\n"
   ]
  },
  {
   "cell_type": "code",
   "execution_count": null,
   "id": "88633f78",
   "metadata": {},
   "outputs": [],
   "source": [
    "yaml_agro_irrigation_file = Path(IRRIGATION_DATA_DIR, \"agromanagement\", \"rice_schedule_irrigation.yaml\")\n",
    "agromanagement_irrigation = read_yaml_agro(yaml_agro_irrigation_file)\n",
    "agromanagement_irrigation"
   ]
  },
  {
   "cell_type": "code",
   "execution_count": null,
   "id": "a0a0e7ab",
   "metadata": {},
   "outputs": [],
   "source": [
    "yaml_agro_irrigation_file = Path(IRRIGATION_DATA_DIR, \"agromanagement\", \"rice_schedule_irrigation_20.yaml\")\n",
    "agromanagement_irrigation_20cm = read_yaml_agro(yaml_agro_irrigation_file)\n",
    "agromanagement_irrigation_20cm"
   ]
  },
  {
   "cell_type": "code",
   "execution_count": null,
   "id": "e6d0d952",
   "metadata": {},
   "outputs": [],
   "source": [
    "event_cfgs = []\n",
    "\n",
    "first_schedule = agromanagement_irrigation[0]\n",
    "for campaign_start_date, schedule in first_schedule.items():\n",
    "    irrigation_events_cfg = schedule['TimedEvents']\n",
    "    irrigation_events = irrigation_events_cfg[0][\"events_table\"]\n",
    "    for event in irrigation_events:\n",
    "        for event_date, irrigation_water_in_cm in event.items():\n",
    "            event_cfgs.append((event_date, irrigation_water_in_cm))\n",
    "            pp([event_date, irrigation_water_in_cm[\"amount\"]])"
   ]
  },
  {
   "cell_type": "markdown",
   "id": "6fc5f84e",
   "metadata": {},
   "source": [
    "## 4. Initializing WOFOST model"
   ]
  },
  {
   "cell_type": "code",
   "execution_count": null,
   "id": "df26e22e",
   "metadata": {},
   "outputs": [],
   "source": [
    "from pcse.models import Wofost72_WLP_FD"
   ]
  },
  {
   "cell_type": "code",
   "execution_count": null,
   "id": "99977e67",
   "metadata": {},
   "outputs": [],
   "source": [
    "wofost_sim = Wofost72_WLP_FD(parameters, wdp, agromanagement)\n",
    "wofost_irrigation_sim = Wofost72_WLP_FD(parameters, wdp, agromanagement_irrigation)\n",
    "wofost_irrigation_sim_20cm = Wofost72_WLP_FD(parameters, wdp, agromanagement_irrigation_20cm)"
   ]
  },
  {
   "cell_type": "code",
   "execution_count": null,
   "id": "dfd1f546",
   "metadata": {},
   "outputs": [],
   "source": [
    "wofost_sim.run_till_terminate()\n",
    "wofost_irrigation_sim.run_till_terminate()\n",
    "wofost_irrigation_sim_20cm.run_till_terminate()"
   ]
  },
  {
   "cell_type": "code",
   "execution_count": null,
   "id": "66a772c1",
   "metadata": {},
   "outputs": [],
   "source": [
    "outputs = wofost_sim.get_output()\n",
    "df_output = pd.DataFrame(outputs)\n",
    "\n",
    "outputs_irrigation = wofost_irrigation_sim.get_output()\n",
    "df_output_irrigation = pd.DataFrame(outputs_irrigation)\n",
    "\n",
    "outputs_irrigation_20cm = wofost_irrigation_sim_20cm.get_output()\n",
    "df_output_irrigation_20cm = pd.DataFrame(outputs_irrigation_20cm)"
   ]
  },
  {
   "cell_type": "code",
   "execution_count": null,
   "id": "9001ceb8",
   "metadata": {},
   "outputs": [],
   "source": [
    "fig, ax = plt.subplots(1,1, figsize=(15, 5))\n",
    "var = \"LAI\"\n",
    "df_output.set_index(\"day\")[var].plot(ax=ax)\n",
    "df_output_irrigation.set_index(\"day\")[var].plot(ax=ax, label=f\"{var} irrigation\")\n",
    "#df_output_irrigation_20cm.set_index(\"day\")[var].plot(ax=ax, label=f\"{var} irrigation 20cm\")\n",
    "\n",
    "for event_cfg in event_cfgs:\n",
    "    event_date, irrigation_water_in_cm = event_cfg\n",
    "    ax.axvline(x=event_date, c=\"red\", label=f\"irrigation event: {irrigation_water_in_cm['amount']} cm\")\n",
    "\n",
    "# df_weatherdataprovider.loc[mask, [\"RAIN\"]].plot(ax=ax)\n",
    "plt.legend()\n",
    "plt.show()"
   ]
  },
  {
   "cell_type": "code",
   "execution_count": null,
   "id": "e8ee44a3",
   "metadata": {},
   "outputs": [],
   "source": [
    "fig, ax = plt.subplots(1,1, figsize=(15, 5))\n",
    "var = \"SM\"\n",
    "df_output.set_index(\"day\")[var].plot(ax=ax)\n",
    "df_output_irrigation.set_index(\"day\")[var].plot(ax=ax, label=f\"{var} irrigation\")\n",
    "for event_cfg in event_cfgs:\n",
    "    event_date, irrigation_water_in_cm = event_cfg\n",
    "    ax.axvline(x=event_date, c=\"red\", label=f\"irrigation event: {irrigation_water_in_cm['amount']} cm\")\n",
    "\n",
    "# df_weatherdataprovider.loc[mask, [\"RAIN\"]].plot(ax=ax)\n",
    "plt.legend()\n",
    "plt.show()"
   ]
  },
  {
   "cell_type": "code",
   "execution_count": null,
   "id": "04d844cc",
   "metadata": {},
   "outputs": [],
   "source": []
  }
 ],
 "metadata": {
  "kernelspec": {
   "display_name": "Python 3 (ipykernel)",
   "language": "python",
   "name": "python3"
  },
  "language_info": {
   "codemirror_mode": {
    "name": "ipython",
    "version": 3
   },
   "file_extension": ".py",
   "mimetype": "text/x-python",
   "name": "python",
   "nbconvert_exporter": "python",
   "pygments_lexer": "ipython3",
   "version": "3.9.6"
  }
 },
 "nbformat": 4,
 "nbformat_minor": 5
}
