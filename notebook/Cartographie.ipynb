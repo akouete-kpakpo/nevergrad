{
 "cells": [
  {
   "cell_type": "markdown",
   "id": "12e541bf",
   "metadata": {},
   "source": [
    "# Cartographie de la culture du riz au Bénin dans certaines localités"
   ]
  },
  {
   "cell_type": "markdown",
   "id": "545ac581",
   "metadata": {},
   "source": [
    "### Importation des biblios nécessaires\n"
   ]
  },
  {
   "cell_type": "code",
   "execution_count": null,
   "id": "af9cb836",
   "metadata": {},
   "outputs": [],
   "source": [
    "import pandas as pd\n",
    "import matplotlib.pyplot as plt\n",
    "from pprint import pp\n",
    "from datetime import datetime\n",
    "from pcse.fileinput import CABOFileReader, YAMLCropDataProvider\n",
    "from pathlib import Path\n",
    "from nevergrad.functions.irrigation.common_path import IRRIGATION_DATA_DIR\n",
    "from pcse.util import WOFOST71SiteDataProvider\n",
    "from pcse.base import ParameterProvider\n",
    "from pcse.db import NASAPowerWeatherDataProvider\n",
    "from nevergrad.functions.irrigation.irrigation import KNOWN_GEOLOCS\n",
    "from pcse.fileinput import YAMLAgroManagementReader\n",
    "import yaml\n",
    "from pcse.models import Wofost72_WLP_FD"
   ]
  },
  {
   "cell_type": "markdown",
   "id": "13dd8df0",
   "metadata": {},
   "source": [
    "### Mise en place du simulateur"
   ]
  },
  {
   "cell_type": "code",
   "execution_count": null,
   "id": "36feba53",
   "metadata": {},
   "outputs": [],
   "source": [
    "def model(wdp):\n",
    "    \"\"\" Cette fonction va nous permettre de mettre en place le simulateur\"\"\"\n",
    "    #mise en place des paramètres du modèles\n",
    "    #paramètre de culture\n",
    "    cropfile = \"https://raw.githubusercontent.com/ajwdewit/WOFOST_crop_parameters/master/\"\n",
    "    cropdata = YAMLCropDataProvider(repository=cropfile)\n",
    "    pp(cropdata.get_crops_varieties())\n",
    "    \n",
    "    #paramètre de sol\n",
    "    soilfile = Path(IRRIGATION_DATA_DIR, \"soil\", \"ec3.soil\") \n",
    "    # we will use the water balance for \n",
    "    # freely draining soils and use the soil file for medium fine sand\n",
    "    soildata = CABOFileReader(soilfile)\n",
    "    pp(soildata)\n",
    "    \n",
    "    #paramètre de site\n",
    "    sitedata = WOFOST71SiteDataProvider(\n",
    "    WAV=100, # initial soil moisture content\n",
    "    CO2=360, # the atmospheric CO2 concentration \n",
    "    )\n",
    "    expected_sitedata = {\n",
    "    'IFUNRN': 0,\n",
    "    'NOTINF': 0,\n",
    "    'SSI': 0.0, # the initial surface storage\n",
    "    'SSMAX': 0.0, # the maximum surface storage\n",
    "    'WAV': 100.0,\n",
    "    'SMLIM': 0.4\n",
    "     }\n",
    "    assert sitedata == expected_sitedata\n",
    "    \n",
    "    #combinaison des trois premiers params\n",
    "    parameters = ParameterProvider(cropdata=cropdata, soildata=soildata, sitedata=sitedata)\n",
    "    \n",
    "    #paramètre de météo\n",
    "    wdp=wdp\n",
    "    crop_start_date = datetime.strptime(\"2006-03-31\", \"%Y-%m-%d\").date()\n",
    "    crop_end_date = datetime.strptime(\"2006-10-20\", \"%Y-%m-%d\").date()\n",
    "    df_weatherdataprovider = pd.DataFrame(wdp.export()).set_index(\"DAY\")\n",
    "    mask = (df_weatherdataprovider.index >= crop_start_date) & (df_weatherdataprovider.index <= crop_end_date)\n",
    "    #df_weatherdataprovider.loc[mask, [\"RAIN\"]].plot()\n",
    "    \n",
    "    #paramètre d'agrogestion\n",
    "    def read_yaml_agro(yaml_agro_file: Path) -> list:\n",
    "        assert yaml_agro_file.exists()\n",
    "        with open(yaml_agro_file, \"r\") as f:\n",
    "            yaml_agro = f.read()\n",
    "        return yaml.safe_load(yaml_agro)\n",
    "    \n",
    "    yaml_agro_file = Path(IRRIGATION_DATA_DIR, \"agromanagement\", \"rice_schedule.yaml\")\n",
    "    agromanagement = read_yaml_agro(yaml_agro_file)\n",
    "    \n",
    "    #Initialisation du modèle\n",
    "    wofost_sim = Wofost72_WLP_FD(parameters, wdp, agromanagement)\n",
    "    #Execution du modèle\n",
    "    wofost_sim.run_till_terminate()\n",
    "    output = wofost_sim.get_output()\n",
    "    df_output = pd.DataFrame(output)\n",
    "    return df_output[\"LAI\"].sum()\n"
   ]
  },
  {
   "cell_type": "markdown",
   "id": "7e99e3c3",
   "metadata": {},
   "source": [
    "### Construction de la liste des villes et leurs coordonnées géographiques\n"
   ]
  },
  {
   "cell_type": "code",
   "execution_count": null,
   "id": "b19df823",
   "metadata": {},
   "outputs": [],
   "source": [
    "towns_localisations=[(6.664522047548846,2.159156765243099),\n",
    "      (6.371274272103359,2.3961754953536243),\n",
    "     (6.515052473722593, 2.5889961931913628),\n",
    "      (6.983211693487492,2.663412046468264),\n",
    "      (6.805119466540308,1.7876815558461814),\n",
    "      (6.644998836178613,1.7178581535119701),\n",
    "      (7.9741525617502225,2.2449016366623584),\n",
    "      (7.7850247569512945,2.1991596742641524),\n",
    "      (11.863624885975188,3.3846903257980436),\n",
    "      (11.13057733827704,2.9321041548916362),\n",
    "      (8.899825860624906,2.5778173128877717),\n",
    "      (9.353878406271505,2.5793832030491433),\n",
    "      (11.248665869642261,1.5019846363736715),\n",
    "      (10.298391303599118,1.3786018564760418)\n",
    "      ]\n",
    "towns=[\"Allada\",\"Cotonou\",\"Porto-Novo\",\"Pobè\",\"Dogbo\",\"Lokossa\",\"Glazoué\",\"Dassa-Zoumè\",\"Malanville\",\"Kandi\",\"Tchaourou\",\"Parakou\",\"Pendjari\",\"Natitingou\"]"
   ]
  },
  {
   "cell_type": "markdown",
   "id": "a066ca93",
   "metadata": {},
   "source": [
    "### Phase d'éxecution du modèle sur les différentes localités"
   ]
  },
  {
   "cell_type": "code",
   "execution_count": null,
   "id": "9d153122",
   "metadata": {},
   "outputs": [],
   "source": [
    "\n",
    "for i in range(len(towns)):\n",
    "    ville = towns[i]\n",
    "    ville_lat,ville_long =towns_localisations[i]\n",
    "    print(\"lieu_simu: \",ville)\n",
    "    wdp = NASAPowerWeatherDataProvider(\n",
    "    latitude=ville_lat, longitude=ville_long,)\n",
    "    simu = model(wdp)\n",
    "    print(\"La valeur du LAI dans la \" f\"ville: {ville}\" \" est:\",simu)\n",
    "    a\n",
    "    "
   ]
  },
  {
   "cell_type": "code",
   "execution_count": null,
   "id": "1b625765",
   "metadata": {},
   "outputs": [],
   "source": [
    "Dict_of_LAI={\"Allada\":\"66.30768901417025\",\n",
    "             \"Cotonou\":\"99.53093316197644\",\n",
    "             \"Porto-Novo\":\"99.6067895038238\",\n",
    "             \"Pobè\":\"91.45671393074487\",\n",
    "             \"Dogbo\":\"63.86755379601517\",\n",
    "             \"Lokossa\":\"43.36750654174513\",\n",
    "             \"Glazoué\":\"28.168142832413395\",\n",
    "             \"Dassa-Zoumè\":\"28.153579030413333\",\n",
    "             \"Malanville\":\"5.458992118422631\",\n",
    "             \"Kandi\":\"12.24171244184637\",\n",
    "             \"Tchaourou\":\"24.46508016166584\",\n",
    "             \"Parakou\":\"23.434981291124092\",\n",
    "             \"Pendjari\":\"15.384599622627363\",\n",
    "             \"Natitingou\":\"23.632902833901834\"}"
   ]
  }
 ],
 "metadata": {
  "kernelspec": {
   "display_name": "Python 3 (ipykernel)",
   "language": "python",
   "name": "python3"
  },
  "language_info": {
   "codemirror_mode": {
    "name": "ipython",
    "version": 3
   },
   "file_extension": ".py",
   "mimetype": "text/x-python",
   "name": "python",
   "nbconvert_exporter": "python",
   "pygments_lexer": "ipython3",
   "version": "3.9.6"
  }
 },
 "nbformat": 4,
 "nbformat_minor": 5
}
