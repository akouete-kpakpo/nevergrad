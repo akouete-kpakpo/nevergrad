{
 "cells": [
  {
   "cell_type": "markdown",
   "id": "12e541bf",
   "metadata": {},
   "source": [
    "# Cartographie de la culture de betterave au Bénin"
   ]
  },
  {
   "cell_type": "code",
   "execution_count": null,
   "id": "af9cb836",
   "metadata": {},
   "outputs": [],
   "source": [
    "import pandas as pd\n",
    "import geopandas as gpd\n",
    "import matplotlib.pyplot as plt\n",
    "from pprint import pp\n",
    "from datetime import datetime\n",
    "from pathlib import Path\n",
    "import yaml\n",
    "from tqdm import tqdm\n",
    "\n",
    "from pcse.fileinput import CABOFileReader, YAMLCropDataProvider\n",
    "from pcse.util import WOFOST71SiteDataProvider\n",
    "from pcse.base import ParameterProvider\n",
    "from pcse.db import NASAPowerWeatherDataProvider\n",
    "from pcse.fileinput import YAMLAgroManagementReader\n",
    "from pcse.models import Wofost72_WLP_FD\n",
    "\n",
    "from nevergrad.functions.irrigation.common_path import IRRIGATION_DATA_DIR\n",
    "from nevergrad.functions.irrigation.irrigation import get_soil_data"
   ]
  },
  {
   "cell_type": "code",
   "execution_count": null,
   "id": "85ca1281",
   "metadata": {},
   "outputs": [],
   "source": [
    " yaml_agro_template = \"\"\"\n",
    "- 2006-01-01:\n",
    "    CropCalendar:\n",
    "        crop_name: sugarbeet\n",
    "        variety_name: Sugarbeet_603\n",
    "        crop_start_date: 2006-03-31\n",
    "        crop_start_type: emergence\n",
    "        crop_end_date: 2006-10-20\n",
    "        crop_end_type: harvest\n",
    "        max_duration: 300\n",
    "    TimedEvents: null\n",
    "    StateEvents: null\n",
    "\"\"\"\n"
   ]
  },
  {
   "cell_type": "markdown",
   "id": "13dd8df0",
   "metadata": {},
   "source": [
    "### Mise en place du simulateur"
   ]
  },
  {
   "cell_type": "code",
   "execution_count": null,
   "id": "36feba53",
   "metadata": {},
   "outputs": [],
   "source": [
    "def aggregate_crop_leaf_growth(latitude: float, longitude: float) -> float:\n",
    "    # paramètre de culture\n",
    "    cropfile = \"https://raw.githubusercontent.com/ajwdewit/WOFOST_crop_parameters/master/\"\n",
    "    cropdata = YAMLCropDataProvider(repository=cropfile)\n",
    "\n",
    "    #paramètre de sol\n",
    "    soildata = get_soil_data()\n",
    "\n",
    "    #paramètre de site\n",
    "    sitedata = WOFOST71SiteDataProvider(WAV=100)\n",
    "\n",
    "    #combinaison des trois premiers params\n",
    "    parameters = ParameterProvider(cropdata=cropdata, soildata=soildata, sitedata=sitedata)\n",
    "\n",
    "    #paramètre de météo\n",
    "    wdp = NASAPowerWeatherDataProvider(latitude=latitude, longitude=longitude)\n",
    "\n",
    "    #paramètre de plante et d'agrogestion\n",
    "    agromanagement = yaml.safe_load(yaml_agro_template)\n",
    "\n",
    "    #Initialisation du modèle\n",
    "    crop_evolution_model = Wofost72_WLP_FD(parameters, wdp, agromanagement)\n",
    "    \n",
    "    # Execution du modèle\n",
    "    crop_evolution_model.run_till_terminate()\n",
    "    output = crop_evolution_model.get_output()\n",
    "    df_output = pd.DataFrame(output)\n",
    "    \n",
    "    return df_output[\"LAI\"].sum()\n"
   ]
  },
  {
   "cell_type": "markdown",
   "id": "7e99e3c3",
   "metadata": {},
   "source": [
    "### Construction de la liste des villes et leurs coordonnées géographiques\n",
    "Télécharger le fichier ici: https://data.humdata.org/dataset/geoboundaries-admin-boundaries-for-benin?force_layout=desktop"
   ]
  },
  {
   "cell_type": "code",
   "execution_count": null,
   "id": "8f38055a",
   "metadata": {},
   "outputs": [],
   "source": [
    "benin = gpd.read_file(\n",
    "    Path.cwd() / \"geoBoundaries-BEN-ADM2-all\" / \"geoBoundaries-BEN-ADM2_simplified.shp\",\n",
    ")"
   ]
  },
  {
   "cell_type": "markdown",
   "id": "a066ca93",
   "metadata": {},
   "source": [
    "### Phase d'éxecution du modèle sur les différentes localités"
   ]
  },
  {
   "cell_type": "code",
   "execution_count": null,
   "id": "eef1219d",
   "metadata": {},
   "outputs": [],
   "source": [
    "aggregated_crop_growth = []\n",
    "\n",
    "for town in tqdm(benin[\"geometry\"].centroid):\n",
    "    longitude = town.x\n",
    "    latitude = town.y\n",
    "    print(f\"{longitude=}\", f\"{latitude=}\")\n",
    "    growth_metric = aggregate_crop_leaf_growth(latitude=latitude, longitude=longitude)\n",
    "    aggregated_crop_growth.append(\n",
    "        {\"Growth_metric\": growth_metric}\n",
    "    )"
   ]
  },
  {
   "cell_type": "code",
   "execution_count": null,
   "id": "daa9f183",
   "metadata": {},
   "outputs": [],
   "source": [
    "df_crop_growth_per_city = pd.DataFrame(aggregated_crop_growth)\n",
    "df_crop_growth_per_city"
   ]
  },
  {
   "cell_type": "code",
   "execution_count": null,
   "id": "0a762292",
   "metadata": {},
   "outputs": [],
   "source": [
    "df = pd.concat([benin, df_crop_growth_per_city], axis=1)\n",
    "df"
   ]
  },
  {
   "cell_type": "code",
   "execution_count": null,
   "id": "e840fc66",
   "metadata": {
    "scrolled": true
   },
   "outputs": [],
   "source": [
    "fig, ax = plt.subplots(1, 1, figsize = (5, 10))\n",
    "benin.plot(color='white', edgecolor='black', ax=ax)\n",
    "\n",
    "df.plot(ax=ax, column=\"Growth_metric\", legend=True)\n",
    "\n",
    "plt.show()\n",
    "fig.savefig(\"Sugarbeet_603.jpeg\", dpi=100)"
   ]
  },
  {
   "cell_type": "code",
   "execution_count": null,
   "id": "edab9e5b",
   "metadata": {},
   "outputs": [],
   "source": []
  }
 ],
 "metadata": {
  "kernelspec": {
   "display_name": "Python 3 (ipykernel)",
   "language": "python",
   "name": "python3"
  },
  "language_info": {
   "codemirror_mode": {
    "name": "ipython",
    "version": 3
   },
   "file_extension": ".py",
   "mimetype": "text/x-python",
   "name": "python",
   "nbconvert_exporter": "python",
   "pygments_lexer": "ipython3",
   "version": "3.8.10"
  }
 },
 "nbformat": 4,
 "nbformat_minor": 5
}
