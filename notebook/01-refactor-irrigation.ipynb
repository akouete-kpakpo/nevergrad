{
 "cells": [
  {
   "cell_type": "code",
   "execution_count": null,
   "id": "8ceeb914",
   "metadata": {},
   "outputs": [],
   "source": [
    "import numpy as np\n",
    "import nevergrad\n",
    "import pytest\n",
    "import ipytest"
   ]
  },
  {
   "cell_type": "markdown",
   "id": "84c15997",
   "metadata": {},
   "source": [
    "## param"
   ]
  },
  {
   "cell_type": "code",
   "execution_count": null,
   "id": "ae66a282",
   "metadata": {},
   "outputs": [],
   "source": [
    "dimension = 8"
   ]
  },
  {
   "cell_type": "code",
   "execution_count": null,
   "id": "74874a61",
   "metadata": {},
   "outputs": [],
   "source": [
    "param = nevergrad.p.Array(shape=(dimension,), lower=(0.0), upper=(1.0)).set_name(f\"irrigation{dimension}\")"
   ]
  },
  {
   "cell_type": "code",
   "execution_count": null,
   "id": "aebd79bc",
   "metadata": {},
   "outputs": [],
   "source": [
    "nevergrad.p.Array(shape=(dimension,), lower=(0.0), upper=(1.0))"
   ]
  },
  {
   "cell_type": "markdown",
   "id": "b15badb0",
   "metadata": {},
   "source": [
    "## leaf area index"
   ]
  },
  {
   "cell_type": "code",
   "execution_count": null,
   "id": "45adb2d1",
   "metadata": {},
   "outputs": [],
   "source": [
    "seed = 0\n",
    "rng = np.random.RandomState(seed)\n",
    "probabilities = rng.rand(dimension)\n",
    "\n",
    "expected_probabilities = [0.5488135 , 0.71518937, 0.60276338, 0.54488318, 0.4236548 , 0.64589411, 0.43758721, 0.891773 ]\n",
    "np.testing.assert_allclose(probabilities, expected_probabilities)"
   ]
  },
  {
   "cell_type": "code",
   "execution_count": null,
   "id": "6a3b5db0",
   "metadata": {},
   "outputs": [],
   "source": [
    "days_of_month = rng.randint(0, 30, size=(4,))\n",
    "days_of_month"
   ]
  },
  {
   "cell_type": "code",
   "execution_count": null,
   "id": "d1e400df",
   "metadata": {},
   "outputs": [],
   "source": [
    "f\"2006-06-{days_of_month[0]}\""
   ]
  },
  {
   "cell_type": "code",
   "execution_count": null,
   "id": "69132d24",
   "metadata": {},
   "outputs": [],
   "source": [
    "import calendar, random\n",
    "\n",
    "def randomdate(year: int, month: int) -> str:\n",
    "    dates = calendar.Calendar().itermonthdates(year, month)\n",
    "    random_date = random.choice([date for date in dates if date.month == month])\n",
    "    return random_date.strftime(\"%Y-%m-%d\")"
   ]
  },
  {
   "cell_type": "code",
   "execution_count": null,
   "id": "9e310654",
   "metadata": {},
   "outputs": [],
   "source": [
    "randomdate(2022, 6)"
   ]
  },
  {
   "cell_type": "code",
   "execution_count": null,
   "id": "a72febc9",
   "metadata": {},
   "outputs": [],
   "source": [
    "yaml_agro = \"\"\"\n",
    "- 2006-01-01:\n",
    "    CropCalendar:\n",
    "        crop_name: {cropname}\n",
    "        variety_name: {cropvariety}\n",
    "        crop_start_date: 2006-03-31\n",
    "        crop_start_type: emergence\n",
    "        crop_end_date: 2006-10-20\n",
    "        crop_end_type: harvest\n",
    "        max_duration: 300\n",
    "    TimedEvents:\n",
    "    -   event_signal: irrigate\n",
    "        name: Irrigation application table\n",
    "        comment: All irrigation amounts in cm\n",
    "        events_table:\n",
    "        - 2006-06-{d0:02}: {{amount: {a0}, efficiency: 0.7}}\n",
    "        - 2006-07-{d1:02}: {{amount: {a1}, efficiency: 0.7}}\n",
    "        - 2006-08-{d2:02}: {{amount: {a2}, efficiency: 0.7}}\n",
    "        - 2006-09-{d3:02}: {{amount: {a3}, efficiency: 0.7}}\n",
    "    StateEvents: null\n",
    "    \"\"\"\n",
    "    \n",
    "def leaf_area_index(\n",
    "    x: np.ndarray,\n",
    "    cropname: str,\n",
    "    cropvariety: str,\n",
    "    parameterprovider,\n",
    "    weatherdataprovider\n",
    ") -> float:\n",
    "    agromanagement = yaml.safe_load(yaml_agro.format(cropname, cropvariety))\n",
    "    wofost = Wofost72_WLP_FD(parameterprovider, weatherdataprovider, agromanagement)\n",
    "    wofost.run_till_terminate()\n",
    "    output = wofost.get_output()\n",
    "\n",
    "    return -sum([float(o[\"LAI\"]) for o in output if o[\"LAI\"] is not None])\n",
    "\n",
    "def get_irrigation_events(x):\n",
    "\n",
    "    \n",
    "    return\n",
    "    \n",
    "def get_days_of_month(x: np.ndarray) -> int:\n",
    "    return rng.rand(4)\n",
    "\n",
    "def get_irrigation_amounts_cm(x: np.ndarray):\n",
    "    a0 = 15.0 * x[4] / x[-4:].sum()\n",
    "    a1 = 15.0 * x[5] / x[-4:].sum()\n",
    "    a2 = 15.0 * x[6] / x[-4:].sum()\n",
    "    a3 = 15.0 * x[7] / x[-4:].sum()\n",
    "    return a0, a1, a2, a3"
   ]
  },
  {
   "cell_type": "code",
   "execution_count": null,
   "id": "f6cb1efa",
   "metadata": {},
   "outputs": [],
   "source": [
    "get_irrigation_amounts_cm(probabilities)"
   ]
  },
  {
   "cell_type": "code",
   "execution_count": null,
   "id": "73032698",
   "metadata": {},
   "outputs": [],
   "source": [
    "probabilities[-4:].sum()"
   ]
  },
  {
   "cell_type": "code",
   "execution_count": null,
   "id": "75896d3d",
   "metadata": {},
   "outputs": [],
   "source": [
    "probabilities[4]"
   ]
  },
  {
   "cell_type": "code",
   "execution_count": null,
   "id": "8bf305e9",
   "metadata": {},
   "outputs": [],
   "source": []
  }
 ],
 "metadata": {
  "kernelspec": {
   "display_name": "Python 3 (ipykernel)",
   "language": "python",
   "name": "python3"
  },
  "language_info": {
   "codemirror_mode": {
    "name": "ipython",
    "version": 3
   },
   "file_extension": ".py",
   "mimetype": "text/x-python",
   "name": "python",
   "nbconvert_exporter": "python",
   "pygments_lexer": "ipython3",
   "version": "3.8.10"
  }
 },
 "nbformat": 4,
 "nbformat_minor": 5
}
