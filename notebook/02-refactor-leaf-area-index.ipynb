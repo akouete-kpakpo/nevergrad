{
 "cells": [
  {
   "cell_type": "markdown",
   "id": "5e68baf1",
   "metadata": {},
   "source": [
    "## User guide\n",
    "https://pcse.readthedocs.io/en/stable/user_guide.html#getting-started\n"
   ]
  },
  {
   "cell_type": "code",
   "execution_count": null,
   "id": "83229629",
   "metadata": {},
   "outputs": [],
   "source": [
    "import pcse\n",
    "import pandas as pd\n",
    "import matplotlib.pyplot as plt\n",
    "from pprint import pp"
   ]
  },
  {
   "cell_type": "markdown",
   "id": "6d387415",
   "metadata": {},
   "source": [
    "## Running PCSE/WOFOST with custom input data\n",
    "For running PCSE/WOFOST (and PCSE models in general) with your own data sources you need three different types of inputs:\n",
    "\n",
    "1. Model parameters that parameterize the different model components. These parameters usually consist of :\n",
    "   - a set of crop parameters (or multiple sets in case of crop rotations), \n",
    "   - a set of soil parameters and \n",
    "   - a set of site parameters: ancillary parameters that are specific for a location.\n",
    "\n",
    "2. Driving variables represented by weather data which can be derived from various sources.\n",
    "3. Agromanagement actions which specify the farm activities that will take place on the field that is simulated by PCSE."
   ]
  },
  {
   "cell_type": "code",
   "execution_count": null,
   "id": "c7443534",
   "metadata": {},
   "outputs": [],
   "source": [
    "from pcse.fileinput import CABOFileReader, YAMLCropDataProvider\n",
    "from pathlib import Path\n",
    "from nevergrad.functions.irrigation.common_path import IRRIGATION_DATA_DIR"
   ]
  },
  {
   "cell_type": "markdown",
   "id": "daa353e4",
   "metadata": {},
   "source": [
    "## 1. Model parameters\n",
    "### 1.1. Crop parameters"
   ]
  },
  {
   "cell_type": "code",
   "execution_count": null,
   "id": "8fbaaf7a",
   "metadata": {},
   "outputs": [],
   "source": [
    "cropfile = Path(IRRIGATION_DATA_DIR, \"crop\")\n",
    "cropdata = YAMLCropDataProvider(fpath=cropfile)"
   ]
  },
  {
   "cell_type": "code",
   "execution_count": null,
   "id": "9b102641",
   "metadata": {},
   "outputs": [],
   "source": [
    "pp(cropdata.get_crops_varieties())"
   ]
  },
  {
   "cell_type": "markdown",
   "id": "922d2298",
   "metadata": {},
   "source": [
    "### 1.2. Soil parameters\n",
    "- soil type \n",
    "- soil physical properties"
   ]
  },
  {
   "cell_type": "code",
   "execution_count": null,
   "id": "3ae77eff",
   "metadata": {},
   "outputs": [],
   "source": [
    "soilfile = Path(IRRIGATION_DATA_DIR, \"soil\", \"ec3.soil\") \n",
    "# we will use the water balance for \n",
    "# freely draining soils and use the soil file for medium fine sand\n",
    "soildata = CABOFileReader(soilfile)"
   ]
  },
  {
   "cell_type": "code",
   "execution_count": null,
   "id": "02b2f8bb",
   "metadata": {},
   "outputs": [],
   "source": [
    "pp(soildata)"
   ]
  },
  {
   "cell_type": "markdown",
   "id": "3a97e0c0",
   "metadata": {},
   "source": [
    "### 1.3. Site parameters"
   ]
  },
  {
   "cell_type": "code",
   "execution_count": null,
   "id": "3e79a1dc",
   "metadata": {},
   "outputs": [],
   "source": [
    "from pcse.util import WOFOST71SiteDataProvider"
   ]
  },
  {
   "cell_type": "code",
   "execution_count": null,
   "id": "062998d2",
   "metadata": {},
   "outputs": [],
   "source": [
    "# the initial conditions of the water balance such as the initial soil moisture content\n",
    "sitedata = WOFOST71SiteDataProvider(\n",
    "    WAV=100, # initial soil moisture content\n",
    "    CO2=360, # the atmospheric CO2 concentration\n",
    ")"
   ]
  },
  {
   "cell_type": "code",
   "execution_count": null,
   "id": "8e1bf86b",
   "metadata": {},
   "outputs": [],
   "source": [
    "expected_sitedata = {\n",
    "    'IFUNRN': 0,\n",
    "    'NOTINF': 0,\n",
    "    'SSI': 0.0, # the initial surface storage\n",
    "    'SSMAX': 0.0, # the maximum surface storage\n",
    "    'WAV': 100.0,\n",
    "    'SMLIM': 0.4\n",
    "}\n",
    "assert sitedata == expected_sitedata"
   ]
  },
  {
   "cell_type": "markdown",
   "id": "ba92939c",
   "metadata": {},
   "source": [
    "### 1.4. Combine them"
   ]
  },
  {
   "cell_type": "code",
   "execution_count": null,
   "id": "7cbb82e3",
   "metadata": {},
   "outputs": [],
   "source": [
    "from pcse.base import ParameterProvider"
   ]
  },
  {
   "cell_type": "code",
   "execution_count": null,
   "id": "c7c3c616",
   "metadata": {},
   "outputs": [],
   "source": [
    "parameters = ParameterProvider(cropdata=cropdata, soildata=soildata, sitedata=sitedata)"
   ]
  },
  {
   "cell_type": "markdown",
   "id": "5306fb28",
   "metadata": {},
   "source": [
    "## 2. Weather data"
   ]
  },
  {
   "cell_type": "code",
   "execution_count": null,
   "id": "f3172e96",
   "metadata": {},
   "outputs": [],
   "source": [
    "from pcse.db import NASAPowerWeatherDataProvider\n",
    "from nevergrad.functions.irrigation.irrigation import KNOWN_GEOLOCS"
   ]
  },
  {
   "cell_type": "code",
   "execution_count": null,
   "id": "a4bd840d",
   "metadata": {},
   "outputs": [],
   "source": [
    "address = \"Lome\"\n",
    "geoloc = KNOWN_GEOLOCS.get(address)"
   ]
  },
  {
   "cell_type": "code",
   "execution_count": null,
   "id": "e0cadfe1",
   "metadata": {},
   "outputs": [],
   "source": [
    "wdp = NASAPowerWeatherDataProvider(latitude=geoloc.get(\"latitude\"), longitude=geoloc.get(\"longitude\"))"
   ]
  },
  {
   "cell_type": "code",
   "execution_count": null,
   "id": "7a154e96",
   "metadata": {},
   "outputs": [],
   "source": [
    "print(wdp)"
   ]
  },
  {
   "cell_type": "markdown",
   "id": "067e9c22",
   "metadata": {},
   "source": [
    "## 3. Agromanagement\n",
    "\n",
    "https://github.com/ajwdewit/pcse_notebooks/blob/master/06_advanced_agromanagement_with_PCSE.ipynb"
   ]
  },
  {
   "cell_type": "code",
   "execution_count": null,
   "id": "152ac8b8",
   "metadata": {},
   "outputs": [],
   "source": [
    "from pcse.fileinput import YAMLAgroManagementReader"
   ]
  },
  {
   "cell_type": "code",
   "execution_count": null,
   "id": "5d60fd26",
   "metadata": {},
   "outputs": [],
   "source": [
    "agromanagement_file = Path(IRRIGATION_DATA_DIR, \"agromanagement\", 'rice_schedule.agro')\n",
    "agromanagement = YAMLAgroManagementReader(agromanagement_file)\n",
    "print(agromanagement)"
   ]
  },
  {
   "cell_type": "markdown",
   "id": "6fc5f84e",
   "metadata": {},
   "source": [
    "## 4. Initializing WOFOST model"
   ]
  },
  {
   "cell_type": "code",
   "execution_count": null,
   "id": "df26e22e",
   "metadata": {},
   "outputs": [],
   "source": [
    "from pcse.models import Wofost72_WLP_FD"
   ]
  },
  {
   "cell_type": "code",
   "execution_count": null,
   "id": "99977e67",
   "metadata": {},
   "outputs": [],
   "source": [
    "wofost_sim = Wofost72_WLP_FD(parameters, wdp, agromanagement)"
   ]
  },
  {
   "cell_type": "code",
   "execution_count": null,
   "id": "dfd1f546",
   "metadata": {},
   "outputs": [],
   "source": [
    "wofost_sim.run_till_terminate()"
   ]
  },
  {
   "cell_type": "code",
   "execution_count": null,
   "id": "66a772c1",
   "metadata": {},
   "outputs": [],
   "source": [
    "outputs = wofost_sim.get_output()\n",
    "df_output = pd.DataFrame(outputs)"
   ]
  },
  {
   "cell_type": "code",
   "execution_count": null,
   "id": "9001ceb8",
   "metadata": {},
   "outputs": [],
   "source": [
    "fig, ax = plt.subplots(1,1, figsize=(15, 5))\n",
    "var = \"LAI\"\n",
    "df_output.set_index(\"day\")[var].plot(ax=ax, ylabel=var)"
   ]
  },
  {
   "cell_type": "code",
   "execution_count": null,
   "id": "fa9ab041",
   "metadata": {},
   "outputs": [],
   "source": []
  }
 ],
 "metadata": {
  "kernelspec": {
   "display_name": "Python 3 (ipykernel)",
   "language": "python",
   "name": "python3"
  },
  "language_info": {
   "codemirror_mode": {
    "name": "ipython",
    "version": 3
   },
   "file_extension": ".py",
   "mimetype": "text/x-python",
   "name": "python",
   "nbconvert_exporter": "python",
   "pygments_lexer": "ipython3",
   "version": "3.8.10"
  }
 },
 "nbformat": 4,
 "nbformat_minor": 5
}
