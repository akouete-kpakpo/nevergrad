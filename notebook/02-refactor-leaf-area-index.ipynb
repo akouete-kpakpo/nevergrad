{
 "cells": [
  {
   "cell_type": "markdown",
   "id": "5e68baf1",
   "metadata": {},
   "source": [
    "## User guide\n",
    "https://pcse.readthedocs.io/en/stable/user_guide.html#getting-started\n"
   ]
  },
  {
   "cell_type": "code",
   "execution_count": null,
   "id": "83229629",
   "metadata": {},
   "outputs": [],
   "source": [
    "import pandas as pd\n",
    "import matplotlib.pyplot as plt\n",
    "from pprint import pp\n",
    "from datetime import datetime, timedelta\n"
   ]
  },
  {
   "cell_type": "code",
   "execution_count": null,
   "id": "b5cc77df",
   "metadata": {},
   "outputs": [],
   "source": [
    "crop_name = \"rice\"\n",
    "variety_name = \"Rice_IR8A\"\n",
    "campaign_start_date = \"2021-01-01\"\n",
    "crop_start_date = \"2021-01-01\"\n",
    "crop_end_date = \"2021-04-01\"\n",
    "irrigation_events = {\n",
    "    \"2021-02-14\": 10,\n",
    "#     \"2006-08-01\": 10,\n",
    "}\n",
    "\n",
    "city = \"Cotonou\"\n",
    "latitude = 51.97\n",
    "longitude = 5.67\n"
   ]
  },
  {
   "cell_type": "markdown",
   "id": "6d387415",
   "metadata": {},
   "source": [
    "## Running PCSE/WOFOST with custom input data\n",
    "For running PCSE/WOFOST (and PCSE models in general) with your own data sources you need three different types of inputs:\n",
    "\n",
    "1. Model parameters that parameterize the different model components. These parameters usually consist of :\n",
    "   - a set of crop parameters (or multiple sets in case of crop rotations), \n",
    "   - a set of soil parameters and \n",
    "   - a set of site parameters: ancillary parameters that are specific for a location.\n",
    "\n",
    "2. Driving variables represented by weather data which can be derived from various sources.\n",
    "3. Agromanagement actions which specify the farm activities that will take place on the field that is simulated by PCSE."
   ]
  },
  {
   "cell_type": "code",
   "execution_count": null,
   "id": "c7443534",
   "metadata": {},
   "outputs": [],
   "source": [
    "from pcse.fileinput import CABOFileReader, YAMLCropDataProvider\n",
    "from pathlib import Path\n",
    "\n",
    "from utils import get_soil_data"
   ]
  },
  {
   "cell_type": "markdown",
   "id": "daa353e4",
   "metadata": {},
   "source": [
    "## 1. Model parameters\n",
    "### 1.1. Crop parameters"
   ]
  },
  {
   "cell_type": "code",
   "execution_count": null,
   "id": "8fbaaf7a",
   "metadata": {},
   "outputs": [],
   "source": [
    "cropfile = \"https://raw.githubusercontent.com/ajwdewit/WOFOST_crop_parameters/master/\"\n",
    "cropdata = YAMLCropDataProvider(repository=cropfile)"
   ]
  },
  {
   "cell_type": "code",
   "execution_count": null,
   "id": "9b102641",
   "metadata": {},
   "outputs": [],
   "source": [
    "pp(cropdata.get_crops_varieties())"
   ]
  },
  {
   "cell_type": "markdown",
   "id": "922d2298",
   "metadata": {},
   "source": [
    "### 1.2. Soil parameters\n",
    "- soil type \n",
    "- soil physical properties"
   ]
  },
  {
   "cell_type": "code",
   "execution_count": null,
   "id": "3ae77eff",
   "metadata": {},
   "outputs": [],
   "source": [
    "# we will use the water balance for \n",
    "# freely draining soils and use the soil file for medium fine sand\n",
    "soildata = get_soil_data()"
   ]
  },
  {
   "cell_type": "code",
   "execution_count": null,
   "id": "02b2f8bb",
   "metadata": {},
   "outputs": [],
   "source": [
    "pp(soildata)"
   ]
  },
  {
   "cell_type": "markdown",
   "id": "3a97e0c0",
   "metadata": {},
   "source": [
    "### 1.3. Site parameters"
   ]
  },
  {
   "cell_type": "code",
   "execution_count": null,
   "id": "3e79a1dc",
   "metadata": {},
   "outputs": [],
   "source": [
    "from pcse.util import WOFOST71SiteDataProvider"
   ]
  },
  {
   "cell_type": "code",
   "execution_count": null,
   "id": "062998d2",
   "metadata": {},
   "outputs": [],
   "source": [
    "# the initial conditions of the water balance such as the initial soil moisture content\n",
    "sitedata = WOFOST71SiteDataProvider(\n",
    "    WAV=100, # initial soil moisture content\n",
    "    CO2=360, # the atmospheric CO2 concentration\n",
    ")"
   ]
  },
  {
   "cell_type": "code",
   "execution_count": null,
   "id": "8e1bf86b",
   "metadata": {},
   "outputs": [],
   "source": [
    "expected_sitedata = {\n",
    "    'IFUNRN': 0,\n",
    "    'NOTINF': 0,\n",
    "    'SSI': 0.0, # the initial surface storage\n",
    "    'SSMAX': 0.0, # the maximum surface storage\n",
    "    'WAV': 100.0,\n",
    "    'SMLIM': 0.4\n",
    "}\n",
    "assert sitedata == expected_sitedata"
   ]
  },
  {
   "cell_type": "markdown",
   "id": "ba92939c",
   "metadata": {},
   "source": [
    "### 1.4. Combine them"
   ]
  },
  {
   "cell_type": "code",
   "execution_count": null,
   "id": "7cbb82e3",
   "metadata": {},
   "outputs": [],
   "source": [
    "from pcse.base import ParameterProvider"
   ]
  },
  {
   "cell_type": "code",
   "execution_count": null,
   "id": "c7c3c616",
   "metadata": {},
   "outputs": [],
   "source": [
    "parameters = ParameterProvider(cropdata=cropdata, soildata=soildata, sitedata=sitedata)"
   ]
  },
  {
   "cell_type": "markdown",
   "id": "5306fb28",
   "metadata": {},
   "source": [
    "## 2. Weather data"
   ]
  },
  {
   "cell_type": "code",
   "execution_count": null,
   "id": "f3172e96",
   "metadata": {},
   "outputs": [],
   "source": [
    "from pcse.db import NASAPowerWeatherDataProvider"
   ]
  },
  {
   "cell_type": "code",
   "execution_count": null,
   "id": "e0cadfe1",
   "metadata": {},
   "outputs": [],
   "source": [
    "wdp = NASAPowerWeatherDataProvider(\n",
    "    latitude=latitude, longitude=longitude,\n",
    ")"
   ]
  },
  {
   "cell_type": "code",
   "execution_count": null,
   "id": "7a154e96",
   "metadata": {},
   "outputs": [],
   "source": [
    "print(wdp)"
   ]
  },
  {
   "cell_type": "code",
   "execution_count": null,
   "id": "2d6d83a9",
   "metadata": {},
   "outputs": [],
   "source": [
    "crop_start_datetime = datetime.strptime(crop_start_date, \"%Y-%m-%d\").date()\n",
    "crop_end_datetime = datetime.strptime(crop_end_date, \"%Y-%m-%d\").date()"
   ]
  },
  {
   "cell_type": "code",
   "execution_count": null,
   "id": "243191e9",
   "metadata": {},
   "outputs": [],
   "source": [
    "df_weatherdataprovider = pd.DataFrame(wdp.export()).set_index(\"DAY\")\n",
    "\n",
    "fig, ax = plt.subplots(1, 1, figsize=(15,5))\n",
    "mask = (df_weatherdataprovider.index >= crop_start_datetime) & (df_weatherdataprovider.index <= crop_end_datetime)\n",
    "df_weatherdataprovider.loc[mask, [\"RAIN\"]].plot(ax=ax)"
   ]
  },
  {
   "cell_type": "markdown",
   "id": "067e9c22",
   "metadata": {},
   "source": [
    "## 3. Agromanagement\n",
    "\n",
    "https://github.com/ajwdewit/pcse_notebooks/blob/master/06_advanced_agromanagement_with_PCSE.ipynb"
   ]
  },
  {
   "cell_type": "code",
   "execution_count": null,
   "id": "152ac8b8",
   "metadata": {},
   "outputs": [],
   "source": [
    "import yaml\n",
    "from irrigation import (\n",
    "    update_agromanagement,\n",
    "    get_timed_events,\n",
    "    add_irrigation_event,\n",
    "    get_irrigation_events,\n",
    "    get_crop_start_date\n",
    ")"
   ]
  },
  {
   "cell_type": "code",
   "execution_count": null,
   "id": "bfed0f1e",
   "metadata": {},
   "outputs": [],
   "source": [
    "yaml_agro_template = f\"\"\"\n",
    "- {campaign_start_date}:\n",
    "    CropCalendar:\n",
    "        crop_name: {crop_name}\n",
    "        variety_name: {variety_name}\n",
    "        crop_start_date: {crop_start_date}\n",
    "        crop_start_type: emergence\n",
    "        crop_end_date: {crop_end_date}\n",
    "        crop_end_type: harvest\n",
    "        max_duration: 300\n",
    "    TimedEvents: null\n",
    "    StateEvents: null\n",
    "\"\"\"\n",
    "\n",
    "agromanagement = yaml.safe_load(yaml_agro_template)"
   ]
  },
  {
   "cell_type": "code",
   "execution_count": null,
   "id": "e0efa5cf",
   "metadata": {},
   "outputs": [],
   "source": [
    "timed_events = get_timed_events(agromanagement)\n",
    "\n",
    "for date, volume in irrigation_events.items():\n",
    "    timed_events = add_irrigation_event(date, volume, timed_events)\n",
    "\n",
    "agromanagement_irrigation = update_agromanagement(agromanagement, timed_events)"
   ]
  },
  {
   "cell_type": "code",
   "execution_count": null,
   "id": "b81c6f91",
   "metadata": {},
   "outputs": [],
   "source": [
    "first_campaign = agromanagement_irrigation[0]\n",
    "irrigation_events = get_irrigation_events(first_campaign)\n",
    "irrigation_events"
   ]
  },
  {
   "cell_type": "markdown",
   "id": "6fc5f84e",
   "metadata": {},
   "source": [
    "## 4. Initializing WOFOST model"
   ]
  },
  {
   "cell_type": "code",
   "execution_count": null,
   "id": "df26e22e",
   "metadata": {},
   "outputs": [],
   "source": [
    "from pcse.models import Wofost72_WLP_FD, Wofost72_PP"
   ]
  },
  {
   "cell_type": "code",
   "execution_count": null,
   "id": "99977e67",
   "metadata": {},
   "outputs": [],
   "source": [
    "wofost_sim = Wofost72_WLP_FD(parameters, wdp, agromanagement)\n",
    "wofost_irrigation_sim = Wofost72_WLP_FD(parameters, wdp, agromanagement_irrigation)"
   ]
  },
  {
   "cell_type": "code",
   "execution_count": null,
   "id": "dfd1f546",
   "metadata": {},
   "outputs": [],
   "source": [
    "wofost_sim.run_till_terminate()\n",
    "wofost_irrigation_sim.run_till_terminate()"
   ]
  },
  {
   "cell_type": "code",
   "execution_count": null,
   "id": "66a772c1",
   "metadata": {},
   "outputs": [],
   "source": [
    "outputs = wofost_sim.get_output()\n",
    "df_output = pd.DataFrame(outputs)\n",
    "\n",
    "outputs_irrigation = wofost_irrigation_sim.get_output()\n",
    "df_output_irrigation = pd.DataFrame(outputs_irrigation)"
   ]
  },
  {
   "cell_type": "code",
   "execution_count": null,
   "id": "9001ceb8",
   "metadata": {},
   "outputs": [],
   "source": [
    "fig, ax = plt.subplots(1,1, figsize=(15, 5))\n",
    "var = \"LAI\"\n",
    "df_output.set_index(\"day\")[var].plot(ax=ax)\n",
    "df_output_irrigation.set_index(\"day\")[var].plot(ax=ax, label=f\"{var} irrigation\")\n",
    "for event_cfg in irrigation_events:\n",
    "    event_date, irrigation_water_in_cm = event_cfg\n",
    "    ax.axvline(x=event_date, c=\"red\", label=f\"irrigation event: {irrigation_water_in_cm['amount']} cm\")\n",
    "\n",
    "# df_weatherdataprovider.loc[mask, [\"RAIN\"]].plot(ax=ax)\n",
    "plt.title(f\"{crop_name} {variety_name} at {city} ({latitude=}, {longitude=})\")\n",
    "plt.legend()\n",
    "plt.show()"
   ]
  },
  {
   "cell_type": "code",
   "execution_count": null,
   "id": "e8ee44a3",
   "metadata": {},
   "outputs": [],
   "source": [
    "fig, ax = plt.subplots(1,1, figsize=(15, 5))\n",
    "var = \"SM\"\n",
    "df_output.set_index(\"day\")[var].plot(ax=ax)\n",
    "df_output_irrigation.set_index(\"day\")[var].plot(ax=ax, label=f\"{var} irrigation\")\n",
    "\n",
    "for event_cfg in irrigation_events:\n",
    "    event_date, irrigation_water_in_cm = event_cfg\n",
    "    ax.axvline(x=event_date, c=\"red\", label=f\"irrigation event: {irrigation_water_in_cm['amount']} cm\")\n",
    "\n",
    "# df_weatherdataprovider.loc[mask, [\"RAIN\"]].plot(ax=ax)\n",
    "plt.legend()\n",
    "plt.show()"
   ]
  },
  {
   "cell_type": "markdown",
   "id": "0d17cea4",
   "metadata": {},
   "source": [
    "## Optimize a complex irrigation planning\n",
    "### 1. `scipy` implementation of BFGS"
   ]
  },
  {
   "cell_type": "code",
   "execution_count": null,
   "id": "a96adc4a",
   "metadata": {},
   "outputs": [],
   "source": [
    "import scipy\n",
    "import numpy as np"
   ]
  },
  {
   "cell_type": "code",
   "execution_count": null,
   "id": "a980f051",
   "metadata": {},
   "outputs": [],
   "source": [
    "def objective_function(\n",
    "    search_params: np.ndarray,\n",
    "    parameterprovider=parameters,\n",
    "    weatherdataprovider=wdp,\n",
    "    agromanagement=agromanagement,\n",
    ") -> float:\n",
    "    assert len(search_params) == 2\n",
    "    delay_in_days, volume = search_params\n",
    "    crop_start_date = get_crop_start_date(agromanagement)\n",
    "    irrigation_date = crop_start_date + timedelta(days=delay_in_days)\n",
    "\n",
    "    timed_events = get_timed_events(agromanagement)\n",
    "    timed_events = add_irrigation_event(irrigation_date.strftime(\"%Y-%m-%d\"), volume, timed_events)\n",
    "    agromanagement_irrigation = update_agromanagement(agromanagement, timed_events)\n",
    "    \n",
    "    wofost = Wofost72_WLP_FD(parameterprovider, weatherdataprovider, agromanagement_irrigation)\n",
    "    wofost.run_till_terminate()\n",
    "    output = wofost.get_output()\n",
    "    df_output = pd.DataFrame(output)\n",
    "    return -df_output[\"LAI\"].sum()"
   ]
  },
  {
   "cell_type": "code",
   "execution_count": null,
   "id": "cfdc4a7a",
   "metadata": {},
   "outputs": [],
   "source": [
    "irrigation_volumes = np.arange(start=10, stop=20, step=1)\n",
    "loss = [objective_function((90, irrigation_volume)) for irrigation_volume in irrigation_volumes]"
   ]
  },
  {
   "cell_type": "code",
   "execution_count": null,
   "id": "ab1facf6",
   "metadata": {},
   "outputs": [],
   "source": [
    "plt.plot(irrigation_volumes, loss)"
   ]
  },
  {
   "cell_type": "code",
   "execution_count": null,
   "id": "bdb20a6f",
   "metadata": {},
   "outputs": [],
   "source": [
    "scipy.optimize.minimize(\n",
    "    fun=objective_function,\n",
    "    x0=(90, 5)\n",
    ")"
   ]
  },
  {
   "cell_type": "markdown",
   "id": "22c28d20",
   "metadata": {},
   "source": [
    "### 2. Implementation of a derivative-free local optimization algorithm called Supblex."
   ]
  },
  {
   "cell_type": "code",
   "execution_count": null,
   "id": "40cc03a7",
   "metadata": {},
   "outputs": [],
   "source": [
    "import nlopt"
   ]
  },
  {
   "cell_type": "code",
   "execution_count": null,
   "id": "98f16dd9",
   "metadata": {},
   "outputs": [],
   "source": [
    "class ModelRerunner(object):\n",
    "    parameters = [\"delay_in_days\", \"volume\"]\n",
    "    \n",
    "    def __init__(self, params, wdp, agro):\n",
    "        self.params = params\n",
    "        self.wdp = wdp\n",
    "        self.agro = agro\n",
    "        \n",
    "    def __call__(self, par_values):\n",
    "        # Check if correct number of parameter values were provided\n",
    "        if len(par_values) != len(self.parameters):\n",
    "            msg = \"Optimizing %i parameters, but only % values were provided!\" % (len(self.parameters, len(par_values)))\n",
    "            raise RuntimeError(msg)\n",
    "\n",
    "        # Clear any existing overrides\n",
    "        self.params.clear_override()\n",
    "\n",
    "            \n",
    "        # Irrigation\n",
    "        delay_in_days, volume = par_values\n",
    "        crop_start_date = get_crop_start_date(self.agro)\n",
    "        irrigation_date = crop_start_date + timedelta(days=delay_in_days)\n",
    "\n",
    "        timed_events = get_timed_events(self.agro)\n",
    "        timed_events = add_irrigation_event(irrigation_date.strftime(\"%Y-%m-%d\"), volume, timed_events)\n",
    "        agromanagement_irrigation = update_agromanagement(agromanagement, timed_events)\n",
    "\n",
    "        # Run the model with given parameter values\n",
    "        wofost = Wofost72_WLP_FD(self.params, self.wdp, agromanagement_irrigation)\n",
    "        wofost.run_till_terminate()\n",
    "        df = pd.DataFrame(wofost.get_output())\n",
    "        df.index = pd.to_datetime(df.day)\n",
    "        return df"
   ]
  },
  {
   "cell_type": "code",
   "execution_count": null,
   "id": "0d646c04",
   "metadata": {},
   "outputs": [],
   "source": [
    "class ObjectiveFunctionCalculator(object):\n",
    "    \"\"\"Computes the objective function.\n",
    "    \n",
    "    This class runs the simulation model with given parameter values and returns the objective\n",
    "    function as the sum of squared difference between observed and simulated LAI.\n",
    ".   \"\"\"\n",
    "    \n",
    "    def __init__(self, params, wdp, agro):\n",
    "        self.modelrerunner = ModelRerunner(params, wdp, agro)\n",
    "        self.n_calls = 0\n",
    "       \n",
    "    def __call__(self, par_values, grad=None):\n",
    "        \"\"\"Runs the model and computes the objective function for given par_values.\n",
    "        \n",
    "        The input parameter 'grad' must be defined in the function call, but is only\n",
    "        required for optimization methods where analytical gradients can be computed.\n",
    "        \"\"\"\n",
    "        self.n_calls += 1\n",
    "        print(\".\", end=\"\")\n",
    "\n",
    "        # Run the model and collect output\n",
    "        self.df_simulations = self.modelrerunner(par_values)\n",
    "        obj_func = -self.df_simulations[\"LAI\"].sum()\n",
    "        return obj_func"
   ]
  },
  {
   "cell_type": "code",
   "execution_count": null,
   "id": "9cdc3e72",
   "metadata": {},
   "outputs": [],
   "source": [
    "opt = nlopt.opt(nlopt.LN_SBPLX, 2)\n",
    "\n",
    "# Assign the objective function calculator\n",
    "objfunc_calculator = ObjectiveFunctionCalculator(parameters, wdp, agromanagement)\n",
    "opt.set_min_objective(objfunc_calculator)\n",
    "\n",
    "# lower bounds of parameters values\n",
    "opt.set_lower_bounds([0, 0])\n",
    "\n",
    "# upper bounds of parameters values\n",
    "opt.set_upper_bounds([180, 30])\n",
    "\n",
    "# the initial step size to compute numerical gradients\n",
    "opt.set_initial_step([1, 1.])\n",
    "\n",
    "# Maximum number of evaluations allowed\n",
    "opt.set_maxeval(200)\n",
    "\n",
    "# Relative tolerance for convergence\n",
    "opt.set_ftol_rel(0.1)\n",
    "\n",
    "# Start the optimization with the first guess\n",
    "firstguess = (60, 5)\n",
    "\n",
    "x = opt.optimize(firstguess)"
   ]
  },
  {
   "cell_type": "code",
   "execution_count": null,
   "id": "47a440f8",
   "metadata": {},
   "outputs": [],
   "source": [
    "opt_delay_in_days, opt_volume = x\n",
    "print(f\"\\noptimum at {opt_delay_in_days=}, {opt_volume=}\")\n",
    "print(f\"minimum value = {opt.last_optimum_value()}\")\n",
    "print(f\"result code = {opt.last_optimize_result()}\")\n",
    "print(f\"With {objfunc_calculator.n_calls} function calls\")"
   ]
  },
  {
   "cell_type": "code",
   "execution_count": null,
   "id": "1b29994f",
   "metadata": {},
   "outputs": [],
   "source": [
    "crop_start_date = get_crop_start_date(agromanagement)\n",
    "irrigation_date = crop_start_date + timedelta(days=opt_delay_in_days)\n",
    "\n",
    "timed_events = get_timed_events(agromanagement)\n",
    "timed_events = add_irrigation_event(irrigation_date.strftime(\"%Y-%m-%d\"), opt_volume, timed_events)\n",
    "agromanagement_irrigation = update_agromanagement(agromanagement, timed_events)\n",
    "\n",
    "# Run the model with given parameter values\n",
    "wofost = Wofost72_WLP_FD(parameters, wdp, agromanagement_irrigation)\n",
    "wofost.run_till_terminate()\n",
    "df_output_irrigation_opt = pd.DataFrame(wofost.get_output())"
   ]
  },
  {
   "cell_type": "code",
   "execution_count": null,
   "id": "25d98676",
   "metadata": {},
   "outputs": [],
   "source": [
    "first_campaign = agromanagement_irrigation[0]\n",
    "irrigation_events = get_irrigation_events(first_campaign)\n",
    "irrigation_events"
   ]
  },
  {
   "cell_type": "code",
   "execution_count": null,
   "id": "3880ede8",
   "metadata": {},
   "outputs": [],
   "source": [
    "fig, ax = plt.subplots(1,1, figsize=(15, 5))\n",
    "var = \"LAI\"\n",
    "df_output.set_index(\"day\")[var].plot(ax=ax)\n",
    "df_output_irrigation_opt.set_index(\"day\")[var].plot(ax=ax, label=f\"{var} irrigation\")\n",
    "for event_cfg in irrigation_events:\n",
    "    event_date, irrigation_water_in_cm = event_cfg\n",
    "    ax.axvline(x=event_date, c=\"red\", label=f\"irrigation event: {irrigation_water_in_cm['amount']:.2f} cm\")\n",
    "\n",
    "plt.title(f\"{crop_name} {variety_name} at {city} ({latitude=}, {longitude=}): optimal date and volume\")\n",
    "plt.legend()\n",
    "plt.show()"
   ]
  },
  {
   "cell_type": "code",
   "execution_count": null,
   "id": "b120b823",
   "metadata": {},
   "outputs": [],
   "source": [
    "def objective_function_on_sphere(\n",
    "    search_params: np.ndarray,\n",
    "    parameterprovider=parameters,\n",
    "    weatherdataprovider=wdp,\n",
    "    agromanagement=agromanagement,\n",
    ") -> float:\n",
    "    assert len(search_params) == 2\n",
    "    delay_in_days, volume = search_params\n",
    "    crop_start_date = get_crop_start_date(agromanagement)\n",
    "    irrigation_date = crop_start_date + timedelta(days=int(abs(delay_in_days * 30 * 6)))\n",
    "\n",
    "    timed_events = get_timed_events(agromanagement)\n",
    "    timed_events = add_irrigation_event(irrigation_date.strftime(\"%Y-%m-%d\"), abs(volume * 30), timed_events)\n",
    "    agromanagement_irrigation = update_agromanagement(agromanagement, timed_events)\n",
    "    \n",
    "    wofost = Wofost72_WLP_FD(parameterprovider, weatherdataprovider, agromanagement_irrigation)\n",
    "    wofost.run_till_terminate()\n",
    "    output = wofost.get_output()\n",
    "    df_output = pd.DataFrame(output)\n",
    "    return -df_output[\"LAI\"].sum()"
   ]
  },
  {
   "cell_type": "code",
   "execution_count": null,
   "id": "73bf26e4",
   "metadata": {},
   "outputs": [],
   "source": [
    "import nevergrad as ng\n",
    "\n",
    "optimizer = ng.optimizers.NGOpt(parametrization=2, budget=1000)\n",
    "recommendation = optimizer.minimize(objective_function_on_sphere)\n",
    "\n",
    "print(recommendation.value)  # recommended value"
   ]
  },
  {
   "cell_type": "code",
   "execution_count": null,
   "id": "4793b75f",
   "metadata": {},
   "outputs": [],
   "source": [
    "delay_in_days_normalized, volume_normalized = recommendation.value\n",
    "delay_in_days = int(abs(delay_in_days_normalized * 30 * 6))\n",
    "volume = abs(volume_normalized * 30)"
   ]
  },
  {
   "cell_type": "code",
   "execution_count": null,
   "id": "cfc1a715",
   "metadata": {},
   "outputs": [],
   "source": [
    "crop_start_date = get_crop_start_date(agromanagement)\n",
    "irrigation_date = crop_start_date + timedelta(days=opt_delay_in_days)\n",
    "\n",
    "timed_events = get_timed_events(agromanagement)\n",
    "timed_events = add_irrigation_event(irrigation_date.strftime(\"%Y-%m-%d\"), opt_volume, timed_events)\n",
    "agromanagement_irrigation = update_agromanagement(agromanagement, timed_events)\n",
    "\n",
    "# Run the model with given parameter values\n",
    "wofost = Wofost72_WLP_FD(parameters, wdp, agromanagement_irrigation)\n",
    "wofost.run_till_terminate()\n",
    "df_output_irrigation_opt = pd.DataFrame(wofost.get_output())"
   ]
  },
  {
   "cell_type": "code",
   "execution_count": null,
   "id": "ede0d4da",
   "metadata": {},
   "outputs": [],
   "source": [
    "first_campaign = agromanagement_irrigation[0]\n",
    "irrigation_events = get_irrigation_events(first_campaign)\n",
    "irrigation_events"
   ]
  },
  {
   "cell_type": "code",
   "execution_count": null,
   "id": "57044d73",
   "metadata": {},
   "outputs": [],
   "source": [
    "fig, ax = plt.subplots(1,1, figsize=(15, 5))\n",
    "var = \"LAI\"\n",
    "df_output.set_index(\"day\")[var].plot(ax=ax)\n",
    "df_output_irrigation_opt.set_index(\"day\")[var].plot(ax=ax, label=f\"{var} irrigation\")\n",
    "for event_cfg in irrigation_events:\n",
    "    event_date, irrigation_water_in_cm = event_cfg\n",
    "    ax.axvline(x=event_date, c=\"red\", label=f\"irrigation event: {irrigation_water_in_cm['amount']:.2f} cm\")\n",
    "\n",
    "plt.title(f\"{crop_name} {variety_name} at {city} ({latitude=}, {longitude=}): optimal date and volume\")\n",
    "plt.legend()\n",
    "plt.show()"
   ]
  }
 ],
 "metadata": {
  "kernelspec": {
   "display_name": "Python 3 (ipykernel)",
   "language": "python",
   "name": "python3"
  },
  "language_info": {
   "codemirror_mode": {
    "name": "ipython",
    "version": 3
   },
   "file_extension": ".py",
   "mimetype": "text/x-python",
   "name": "python",
   "nbconvert_exporter": "python",
   "pygments_lexer": "ipython3",
   "version": "3.8.10"
  }
 },
 "nbformat": 4,
 "nbformat_minor": 5
}
