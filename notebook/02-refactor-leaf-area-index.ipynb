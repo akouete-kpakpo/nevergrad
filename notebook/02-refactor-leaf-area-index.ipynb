{
 "cells": [
  {
   "cell_type": "markdown",
   "id": "5e68baf1",
   "metadata": {},
   "source": [
    "## User guide\n",
    "https://pcse.readthedocs.io/en/stable/user_guide.html#getting-started\n"
   ]
  },
  {
   "cell_type": "code",
   "execution_count": null,
   "id": "83229629",
   "metadata": {},
   "outputs": [],
   "source": [
    "import pandas as pd\n",
    "import matplotlib.pyplot as plt\n",
    "from pprint import pp\n",
    "from datetime import datetime"
   ]
  },
  {
   "cell_type": "markdown",
   "id": "6d387415",
   "metadata": {},
   "source": [
    "## Running PCSE/WOFOST with custom input data\n",
    "For running PCSE/WOFOST (and PCSE models in general) with your own data sources you need three different types of inputs:\n",
    "\n",
    "1. Model parameters that parameterize the different model components. These parameters usually consist of :\n",
    "   - a set of crop parameters (or multiple sets in case of crop rotations), \n",
    "   - a set of soil parameters and \n",
    "   - a set of site parameters: ancillary parameters that are specific for a location.\n",
    "\n",
    "2. Driving variables represented by weather data which can be derived from various sources.\n",
    "3. Agromanagement actions which specify the farm activities that will take place on the field that is simulated by PCSE."
   ]
  },
  {
   "cell_type": "code",
   "execution_count": null,
   "id": "c7443534",
   "metadata": {},
   "outputs": [],
   "source": [
    "from pcse.fileinput import CABOFileReader, YAMLCropDataProvider\n",
    "from pathlib import Path\n",
    "\n",
    "from nevergrad.functions.irrigation.irrigation import get_soil_data"
   ]
  },
  {
   "cell_type": "markdown",
   "id": "daa353e4",
   "metadata": {},
   "source": [
    "## 1. Model parameters\n",
    "### 1.1. Crop parameters"
   ]
  },
  {
   "cell_type": "code",
   "execution_count": null,
   "id": "8fbaaf7a",
   "metadata": {},
   "outputs": [],
   "source": [
    "cropfile = \"https://raw.githubusercontent.com/ajwdewit/WOFOST_crop_parameters/master/\"\n",
    "cropdata = YAMLCropDataProvider(repository=cropfile)"
   ]
  },
  {
   "cell_type": "code",
   "execution_count": null,
   "id": "9b102641",
   "metadata": {},
   "outputs": [],
   "source": [
    "pp(cropdata.get_crops_varieties())"
   ]
  },
  {
   "cell_type": "markdown",
   "id": "922d2298",
   "metadata": {},
   "source": [
    "### 1.2. Soil parameters\n",
    "- soil type \n",
    "- soil physical properties"
   ]
  },
  {
   "cell_type": "code",
   "execution_count": null,
   "id": "3ae77eff",
   "metadata": {},
   "outputs": [],
   "source": [
    "# we will use the water balance for \n",
    "# freely draining soils and use the soil file for medium fine sand\n",
    "soildata = get_soil_data()"
   ]
  },
  {
   "cell_type": "code",
   "execution_count": null,
   "id": "02b2f8bb",
   "metadata": {},
   "outputs": [],
   "source": [
    "pp(soildata)"
   ]
  },
  {
   "cell_type": "markdown",
   "id": "3a97e0c0",
   "metadata": {},
   "source": [
    "### 1.3. Site parameters"
   ]
  },
  {
   "cell_type": "code",
   "execution_count": null,
   "id": "3e79a1dc",
   "metadata": {},
   "outputs": [],
   "source": [
    "from pcse.util import WOFOST71SiteDataProvider"
   ]
  },
  {
   "cell_type": "code",
   "execution_count": null,
   "id": "062998d2",
   "metadata": {},
   "outputs": [],
   "source": [
    "# the initial conditions of the water balance such as the initial soil moisture content\n",
    "sitedata = WOFOST71SiteDataProvider(\n",
    "    WAV=100, # initial soil moisture content\n",
    "    CO2=360, # the atmospheric CO2 concentration\n",
    ")"
   ]
  },
  {
   "cell_type": "code",
   "execution_count": null,
   "id": "8e1bf86b",
   "metadata": {},
   "outputs": [],
   "source": [
    "expected_sitedata = {\n",
    "    'IFUNRN': 0,\n",
    "    'NOTINF': 0,\n",
    "    'SSI': 0.0, # the initial surface storage\n",
    "    'SSMAX': 0.0, # the maximum surface storage\n",
    "    'WAV': 100.0,\n",
    "    'SMLIM': 0.4\n",
    "}\n",
    "assert sitedata == expected_sitedata"
   ]
  },
  {
   "cell_type": "markdown",
   "id": "ba92939c",
   "metadata": {},
   "source": [
    "### 1.4. Combine them"
   ]
  },
  {
   "cell_type": "code",
   "execution_count": null,
   "id": "7cbb82e3",
   "metadata": {},
   "outputs": [],
   "source": [
    "from pcse.base import ParameterProvider"
   ]
  },
  {
   "cell_type": "code",
   "execution_count": null,
   "id": "c7c3c616",
   "metadata": {},
   "outputs": [],
   "source": [
    "parameters = ParameterProvider(cropdata=cropdata, soildata=soildata, sitedata=sitedata)"
   ]
  },
  {
   "cell_type": "markdown",
   "id": "5306fb28",
   "metadata": {},
   "source": [
    "## 2. Weather data"
   ]
  },
  {
   "cell_type": "code",
   "execution_count": null,
   "id": "f3172e96",
   "metadata": {},
   "outputs": [],
   "source": [
    "from pcse.db import NASAPowerWeatherDataProvider"
   ]
  },
  {
   "cell_type": "code",
   "execution_count": null,
   "id": "e0cadfe1",
   "metadata": {},
   "outputs": [],
   "source": [
    "wdp = NASAPowerWeatherDataProvider(\n",
    "    latitude=51.97, longitude=5.67,\n",
    ")"
   ]
  },
  {
   "cell_type": "code",
   "execution_count": null,
   "id": "7a154e96",
   "metadata": {},
   "outputs": [],
   "source": [
    "print(wdp)"
   ]
  },
  {
   "cell_type": "code",
   "execution_count": null,
   "id": "2d6d83a9",
   "metadata": {},
   "outputs": [],
   "source": [
    "crop_start_date = datetime.strptime(\"2006-03-31\", \"%Y-%m-%d\").date()\n",
    "crop_end_date = datetime.strptime(\"2006-10-20\", \"%Y-%m-%d\").date()"
   ]
  },
  {
   "cell_type": "code",
   "execution_count": null,
   "id": "243191e9",
   "metadata": {},
   "outputs": [],
   "source": [
    "df_weatherdataprovider = pd.DataFrame(wdp.export()).set_index(\"DAY\")\n",
    "\n",
    "mask = (df_weatherdataprovider.index >= crop_start_date) & (df_weatherdataprovider.index <= crop_end_date)\n",
    "df_weatherdataprovider.loc[mask, [\"RAIN\"]].plot()"
   ]
  },
  {
   "cell_type": "markdown",
   "id": "067e9c22",
   "metadata": {},
   "source": [
    "## 3. Agromanagement\n",
    "\n",
    "https://github.com/ajwdewit/pcse_notebooks/blob/master/06_advanced_agromanagement_with_PCSE.ipynb"
   ]
  },
  {
   "cell_type": "code",
   "execution_count": null,
   "id": "152ac8b8",
   "metadata": {},
   "outputs": [],
   "source": [
    "import yaml"
   ]
  },
  {
   "cell_type": "code",
   "execution_count": null,
   "id": "bfed0f1e",
   "metadata": {},
   "outputs": [],
   "source": [
    "yaml_agro_template = \"\"\"\n",
    "- 2006-01-01:\n",
    "    CropCalendar:\n",
    "        crop_name: sugarbeet\n",
    "        variety_name: Sugarbeet_603\n",
    "        crop_start_date: 2006-03-31\n",
    "        crop_start_type: emergence\n",
    "        crop_end_date: 2006-10-20\n",
    "        crop_end_type: harvest\n",
    "        max_duration: 300\n",
    "    TimedEvents: null\n",
    "    StateEvents: null\n",
    "\"\"\"\n",
    "\n",
    "agromanagement = yaml.safe_load(yaml_agro_template)"
   ]
  },
  {
   "cell_type": "code",
   "execution_count": null,
   "id": "88633f78",
   "metadata": {},
   "outputs": [],
   "source": [
    "yaml_agro_irrigation_template = \"\"\"\n",
    "- 2006-01-01:\n",
    "    CropCalendar:\n",
    "        crop_name: sugarbeet\n",
    "        variety_name: Sugarbeet_603\n",
    "        crop_start_date: 2006-03-31\n",
    "        crop_start_type: emergence\n",
    "        crop_end_date: 2006-10-20\n",
    "        crop_end_type: harvest\n",
    "        max_duration: 300\n",
    "    TimedEvents:\n",
    "        -   event_signal: irrigate\n",
    "            name: Irrigation application table\n",
    "            comment: All irrigation amounts in cm\n",
    "            events_table:\n",
    "            - 2006-07-01: {amount: 10, efficiency: 0.7}\n",
    "            - 2006-08-01: {amount: 10, efficiency: 0.7}\n",
    "    StateEvents: null\n",
    "\"\"\"\n",
    "agromanagement_irrigation = yaml.safe_load(yaml_agro_irrigation_template)"
   ]
  },
  {
   "cell_type": "code",
   "execution_count": null,
   "id": "e6d0d952",
   "metadata": {},
   "outputs": [],
   "source": [
    "def get_irrigation_events(campaign):\n",
    "    event_cfgs = []\n",
    "\n",
    "    for campaign_start_date, schedule in campaign.items():\n",
    "        events_cfg = schedule['TimedEvents']\n",
    "        irrigation_events = events_cfg[0][\"events_table\"]\n",
    "        event_cfgs.extend(\n",
    "            parse_irrigation_events(irrigation_events)\n",
    "        )\n",
    "    return event_cfgs\n",
    "\n",
    "def parse_irrigation_events(events):\n",
    "    event_cfgs = []\n",
    "    \n",
    "    for event in events:\n",
    "        for date, irrigation_water_in_cm in event.items():\n",
    "            event_cfgs.append((date, irrigation_water_in_cm))\n",
    "    return event_cfgs"
   ]
  },
  {
   "cell_type": "code",
   "execution_count": null,
   "id": "b81c6f91",
   "metadata": {},
   "outputs": [],
   "source": [
    "first_campaign = agromanagement_irrigation[0]\n",
    "irrigation_events = get_irrigation_events(first_campaign)\n",
    "irrigation_events"
   ]
  },
  {
   "cell_type": "markdown",
   "id": "6fc5f84e",
   "metadata": {},
   "source": [
    "## 4. Initializing WOFOST model"
   ]
  },
  {
   "cell_type": "code",
   "execution_count": null,
   "id": "df26e22e",
   "metadata": {},
   "outputs": [],
   "source": [
    "from pcse.models import Wofost72_WLP_FD, Wofost72_PP"
   ]
  },
  {
   "cell_type": "code",
   "execution_count": null,
   "id": "99977e67",
   "metadata": {},
   "outputs": [],
   "source": [
    "wofost_sim = Wofost72_WLP_FD(parameters, wdp, agromanagement)\n",
    "wofost_irrigation_sim = Wofost72_WLP_FD(parameters, wdp, agromanagement_irrigation)"
   ]
  },
  {
   "cell_type": "code",
   "execution_count": null,
   "id": "dfd1f546",
   "metadata": {},
   "outputs": [],
   "source": [
    "wofost_sim.run_till_terminate()\n",
    "wofost_irrigation_sim.run_till_terminate()"
   ]
  },
  {
   "cell_type": "code",
   "execution_count": null,
   "id": "66a772c1",
   "metadata": {},
   "outputs": [],
   "source": [
    "outputs = wofost_sim.get_output()\n",
    "df_output = pd.DataFrame(outputs)\n",
    "\n",
    "outputs_irrigation = wofost_irrigation_sim.get_output()\n",
    "df_output_irrigation = pd.DataFrame(outputs_irrigation)"
   ]
  },
  {
   "cell_type": "code",
   "execution_count": null,
   "id": "9001ceb8",
   "metadata": {},
   "outputs": [],
   "source": [
    "fig, ax = plt.subplots(1,1, figsize=(15, 5))\n",
    "var = \"LAI\"\n",
    "df_output.set_index(\"day\")[var].plot(ax=ax)\n",
    "df_output_irrigation.set_index(\"day\")[var].plot(ax=ax, label=f\"{var} irrigation\")\n",
    "for event_cfg in irrigation_events:\n",
    "    event_date, irrigation_water_in_cm = event_cfg\n",
    "    ax.axvline(x=event_date, c=\"red\", label=f\"irrigation event: {irrigation_water_in_cm['amount']} cm\")\n",
    "\n",
    "# df_weatherdataprovider.loc[mask, [\"RAIN\"]].plot(ax=ax)\n",
    "plt.legend()\n",
    "plt.show()"
   ]
  },
  {
   "cell_type": "code",
   "execution_count": null,
   "id": "e8ee44a3",
   "metadata": {},
   "outputs": [],
   "source": [
    "fig, ax = plt.subplots(1,1, figsize=(15, 5))\n",
    "var = \"SM\"\n",
    "df_output.set_index(\"day\")[var].plot(ax=ax)\n",
    "df_output_irrigation.set_index(\"day\")[var].plot(ax=ax, label=f\"{var} irrigation\")\n",
    "\n",
    "for event_cfg in irrigation_events:\n",
    "    event_date, irrigation_water_in_cm = event_cfg\n",
    "    ax.axvline(x=event_date, c=\"red\", label=f\"irrigation event: {irrigation_water_in_cm['amount']} cm\")\n",
    "\n",
    "# df_weatherdataprovider.loc[mask, [\"RAIN\"]].plot(ax=ax)\n",
    "plt.legend()\n",
    "plt.show()"
   ]
  },
  {
   "cell_type": "markdown",
   "id": "0d17cea4",
   "metadata": {},
   "source": [
    "## Optimize a simple irrigation planning"
   ]
  },
  {
   "cell_type": "code",
   "execution_count": null,
   "id": "a96adc4a",
   "metadata": {},
   "outputs": [],
   "source": [
    "import scipy\n",
    "import numpy as np"
   ]
  },
  {
   "cell_type": "code",
   "execution_count": null,
   "id": "04d844cc",
   "metadata": {},
   "outputs": [],
   "source": [
    "agro_yaml = \"\"\"\n",
    "- 2006-01-01:\n",
    "    CropCalendar:\n",
    "        crop_name: sugarbeet\n",
    "        variety_name: Sugarbeet_603\n",
    "        crop_start_date: 2006-03-31\n",
    "        crop_start_type: emergence\n",
    "        crop_end_date: 2006-10-20\n",
    "        crop_end_type: harvest\n",
    "        max_duration: 300\n",
    "    TimedEvents:\n",
    "    -   event_signal: irrigate\n",
    "        name: Irrigation application table\n",
    "        comment: All irrigation amounts in cm\n",
    "        events_table:\n",
    "        - 2006-07-01: {{amount: {a0}, efficiency: 0.7}}\n",
    "        - 2006-08-01: {{amount: 10, efficiency: 0.7}}\n",
    "    StateEvents: null\n",
    "\"\"\"\n",
    "\n",
    "def objective_function(\n",
    "    irrigation_volume_in_cm: float,\n",
    "    parameterprovider=parameters,\n",
    "    weatherdataprovider=wdp,\n",
    ") -> float:\n",
    "    if isinstance(irrigation_volume_in_cm, np.ndarray):\n",
    "        assert len(irrigation_volume_in_cm) == 1\n",
    "        irrigation_volume_in_cm = irrigation_volume_in_cm[0]\n",
    "    agromanagement = yaml.safe_load(\n",
    "        agro_yaml.format(a0=irrigation_volume_in_cm)\n",
    "    )\n",
    "    wofost = Wofost72_WLP_FD(parameterprovider, weatherdataprovider, agromanagement)\n",
    "    wofost.run_till_terminate()\n",
    "    output = wofost.get_output()\n",
    "    df_output = pd.DataFrame(output)\n",
    "    return -df_output[\"LAI\"].sum()"
   ]
  },
  {
   "cell_type": "code",
   "execution_count": null,
   "id": "cfdc4a7a",
   "metadata": {},
   "outputs": [],
   "source": [
    "irrigation_volumes = np.arange(20)\n",
    "loss = [objective_function(irrigation_volume) for irrigation_volume in irrigation_volumes]"
   ]
  },
  {
   "cell_type": "code",
   "execution_count": null,
   "id": "ab1facf6",
   "metadata": {},
   "outputs": [],
   "source": [
    "plt.plot(irrigation_volumes, loss)"
   ]
  },
  {
   "cell_type": "code",
   "execution_count": null,
   "id": "bdb20a6f",
   "metadata": {},
   "outputs": [],
   "source": [
    "scipy.optimize.minimize(\n",
    "    fun=objective_function,\n",
    "    x0=5\n",
    ")"
   ]
  },
  {
   "cell_type": "code",
   "execution_count": null,
   "id": "9cdc3e72",
   "metadata": {},
   "outputs": [],
   "source": []
  }
 ],
 "metadata": {
  "kernelspec": {
   "display_name": "Python 3 (ipykernel)",
   "language": "python",
   "name": "python3"
  },
  "language_info": {
   "codemirror_mode": {
    "name": "ipython",
    "version": 3
   },
   "file_extension": ".py",
   "mimetype": "text/x-python",
   "name": "python",
   "nbconvert_exporter": "python",
   "pygments_lexer": "ipython3",
   "version": "3.8.10"
  }
 },
 "nbformat": 4,
 "nbformat_minor": 5
}
