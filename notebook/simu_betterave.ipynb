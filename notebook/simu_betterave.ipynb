{
 "cells": [
  {
   "cell_type": "code",
   "execution_count": null,
   "id": "8e4faefa",
   "metadata": {},
   "outputs": [],
   "source": [
    "import sys, os\n",
    "import matplotlib\n",
    "import matplotlib.pyplot as plt\n",
    "import pandas as pd\n",
    "\n",
    "data_dir = os.path.join(os.getcwd(), \"data_1\")\n",
    "import pcse"
   ]
  },
  {
   "cell_type": "code",
   "execution_count": null,
   "id": "ffdf676c",
   "metadata": {},
   "outputs": [],
   "source": [
    "data_dir = os.path.join(os.path.dirname(os.path.join(os.getcwd())), \"nevergrad\", \"functions\",\"irrigation\",\"data\",\"data_1\")\n",
    "print(data_dir)\n"
   ]
  },
  {
   "cell_type": "markdown",
   "id": "2a14a114",
   "metadata": {},
   "source": [
    "##### Paramètre de culture"
   ]
  },
  {
   "cell_type": "code",
   "execution_count": null,
   "id": "2e7bea92",
   "metadata": {},
   "outputs": [],
   "source": [
    "from pcse.fileinput import CABOFileReader\n",
    "cropfile = os.path.join(data_dir, 'crop', 'SUG0601.crop')\n",
    "cropd = CABOFileReader(cropfile)"
   ]
  },
  {
   "cell_type": "code",
   "execution_count": null,
   "id": "9f794aea",
   "metadata": {},
   "outputs": [],
   "source": [
    "#Paramètre du sol\n",
    "soilfile = os.path.join(data_dir, 'soil', 'ec3.soil')\n",
    "soild = CABOFileReader(soilfile)"
   ]
  },
  {
   "cell_type": "code",
   "execution_count": null,
   "id": "ea0b5b5d",
   "metadata": {},
   "outputs": [],
   "source": [
    "#Paramètre de site\n",
    "from pcse.util import WOFOST72SiteDataProvider\n",
    "sited = WOFOST72SiteDataProvider(WAV=10, CO2=360)\n",
    "print(sited)"
   ]
  },
  {
   "cell_type": "code",
   "execution_count": null,
   "id": "d739f2c9",
   "metadata": {},
   "outputs": [],
   "source": [
    "#Mise en commun des paramètres\n",
    "from pcse.base import ParameterProvider\n",
    "parameters = ParameterProvider(cropdata=cropd, soildata=soild, sitedata=sited)"
   ]
  },
  {
   "cell_type": "code",
   "execution_count": null,
   "id": "4c5a226c",
   "metadata": {},
   "outputs": [],
   "source": [
    "#agrogestion\n",
    "from pcse.fileinput import YAMLAgroManagementReader\n",
    "agromanagement_file = os.path.join(data_dir, 'agro', 'sugarbeet_calendar.agro')\n",
    "agromanagement = YAMLAgroManagementReader(agromanagement_file)\n",
    "print(agromanagement)\n",
    "\n",
    "#agrogestion avec irrigation\n",
    "agromanagement_file_irrigation = os.path.join(data_dir, 'agro', 'sugarbeet_calendar_irrigation.agro')\n",
    "agromanagement_irrigation = YAMLAgroManagementReader(agromanagement_file_irrigation)\n",
    "print(agromanagement_irrigation)"
   ]
  },
  {
   "cell_type": "code",
   "execution_count": null,
   "id": "e28bd08a",
   "metadata": {},
   "outputs": [],
   "source": [
    "#Données météorologigues\n",
    "from pcse.fileinput import ExcelWeatherDataProvider\n",
    "weatherfile = os.path.join(data_dir, 'meteo', 'nl1.xlsx')\n",
    "wdp = ExcelWeatherDataProvider(weatherfile)\n",
    "print(wdp)\n",
    "\n"
   ]
  },
  {
   "cell_type": "code",
   "execution_count": null,
   "id": "0f50dfc6",
   "metadata": {},
   "outputs": [],
   "source": [
    "#construction du modèle et initialisation\n",
    "from pcse.models import Wofost72_WLP_FD, Wofost72_PP\n",
    "wofsim = Wofost72_WLP_FD(parameters, wdp, agromanagement)\n",
    "wofsim_irrigation = Wofost72_WLP_FD(parameters, wdp, agromanagement_irrigation)"
   ]
  },
  {
   "cell_type": "code",
   "execution_count": null,
   "id": "3f7791eb",
   "metadata": {},
   "outputs": [],
   "source": [
    "#lancement de la simu\n",
    "wofsim.run_till_terminate()\n",
    "wofsim_irrigation.run_till_terminate()\n",
    "df_results = pd.DataFrame(wofsim.get_output())\n",
    "df_results = df_results.set_index(\"day\")\n",
    "df_results.tail()"
   ]
  },
  {
   "cell_type": "code",
   "execution_count": null,
   "id": "258ffe0a",
   "metadata": {},
   "outputs": [],
   "source": [
    "df1_results = pd.DataFrame(wofsim_irrigation.get_output())\n",
    "df1_results = df1_results.set_index(\"day\")\n",
    "df1_results.tail()"
   ]
  },
  {
   "cell_type": "code",
   "execution_count": null,
   "id": "c2f16217",
   "metadata": {},
   "outputs": [],
   "source": [
    "fig, axes = plt.subplots(nrows=2, ncols=2, figsize=(12,10))\n",
    "for var, ax in zip([\"DVS\", \"TAGP\", \"LAI\", \"SM\"], axes.flatten()):\n",
    "    ax.plot_date(df_results.index, df_results[var], 'b-')\n",
    "    ax.set_title(var)\n",
    "    ax.grid()\n",
    "fig.autofmt_xdate()\n",
    "\n",
    "plt.savefig('courbe_avant_irrigation.png')"
   ]
  },
  {
   "cell_type": "code",
   "execution_count": null,
   "id": "9b6e2668",
   "metadata": {},
   "outputs": [],
   "source": [
    "fig, axes = plt.subplots(nrows=2, ncols=2, figsize=(12,10))\n",
    "for var, ax in zip([\"DVS\", \"TAGP\", \"LAI\", \"SM\"], axes.flatten()):\n",
    "    ax.plot_date(df1_results.index, df1_results[var], 'b-')\n",
    "    ax.set_title(var)\n",
    "    ax.grid()\n",
    "fig.autofmt_xdate()\n",
    "plt.savefig('courbe_after_irrigation.png')"
   ]
  },
  {
   "cell_type": "code",
   "execution_count": null,
   "id": "0057d670",
   "metadata": {},
   "outputs": [],
   "source": []
  }
 ],
 "metadata": {
  "kernelspec": {
   "display_name": "Python 3.9.6 64-bit",
   "language": "python",
   "name": "python3"
  },
  "language_info": {
   "codemirror_mode": {
    "name": "ipython",
    "version": 3
   },
   "file_extension": ".py",
   "mimetype": "text/x-python",
   "name": "python",
   "nbconvert_exporter": "python",
   "pygments_lexer": "ipython3",
   "version": "3.9.6"
  },
  "vscode": {
   "interpreter": {
    "hash": "b4a580596ff5d2dcfc35cdcfa5c55c4deb764d101d5bf27b77d21a02bc2ac3a5"
   }
  }
 },
 "nbformat": 4,
 "nbformat_minor": 5
}
